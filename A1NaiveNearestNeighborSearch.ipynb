{
 "cells": [
  {
   "cell_type": "markdown",
   "metadata": {},
   "source": [
    "# Approach 1: Naive Nearest Neighbor Search\n",
    "\n",
    "The first approach will be to obtain a baseline for an extremeley simple Nearest Neighbor Search. That is we will do a very naive feature extraction and create the list of similar companies by just measuring the proximity of the firms that are closest.\n",
    "\n",
    "## Feature Extraction\n",
    "\n",
    "The features will be extracted from the firms' descriptions. The features will just be a bag of words (just a count of the words in the description). We will not drop any stopwords, or create any n-grams (except of course the unigrams that are the words). \n",
    "\n",
    "## Measuring Similar in Nearest Neighbor\n",
    "\n",
    "We use the default parameters (except for number of neighbors, which we set to 10) for Scikit Learn's unsupervised learner for implementing neighbor searches (sklearn.neighbors.NearestNeighbors). \n",
    "\n",
    "Note: The distance here is minkowski. Minkowski distance is a metric in a normed vector space which can be considered as a generalization of both the Euclidean distance and the Manhattan distance"
   ]
  },
  {
   "cell_type": "code",
   "execution_count": 1,
   "metadata": {
    "collapsed": true
   },
   "outputs": [],
   "source": [
    "#load modules\n",
    "import numpy as np\n",
    "import pandas as pd\n",
    "import matplotlib.pyplot as plt\n",
    "import math\n",
    "import re\n",
    "from sklearn.feature_extraction.text import CountVectorizer\n",
    "from sklearn.neighbors import NearestNeighbors\n",
    "import nltk\n",
    "from nltk.stem import PorterStemmer\n",
    "import string\n",
    "import time\n",
    "from sklearn.manifold import TSNE\n",
    "\n",
    "# Pretty display for notebooks\n",
    "%matplotlib inline"
   ]
  },
  {
   "cell_type": "code",
   "execution_count": 2,
   "metadata": {
    "collapsed": true
   },
   "outputs": [],
   "source": [
    "#functions to create naive nearest neighbor search\n",
    "def train(data_source):\n",
    "    start = time.time()\n",
    "    ds = pd.read_csv(data_source, usecols=[\"name\", \"desc\"])\n",
    "    ds['desc']=ds['desc'].apply(lambda x: x.lower()) #convert to lower\n",
    "    print \"Training data ingested in %s seconds.\" % (time.time() - start)\n",
    "    start = time.time()\n",
    "    frame=_train(ds)\n",
    "    print \"Engine trained in %s seconds.\" % (time.time() - start)\n",
    "    return frame\n",
    "\n",
    "def _train(ds):\n",
    "    \"\"\"\n",
    "    create dataframe to hold firm name and most similar firms\n",
    "    store org data into two lists\n",
    "    vectorize desc with simple count (bow) with no drop of stopwords\n",
    "    perform a NN search where k =10 for each firm\n",
    "    print results to dataframe  \n",
    "    \"\"\"\n",
    "\n",
    "    columns = ['name','nearest_neighbor', 'features']\n",
    "    frame = pd.DataFrame(columns=columns)\n",
    "    \n",
    "    summ = list(ds['desc']) #desc in list\n",
    "    names = list(ds['name']) #names in list\n",
    "\n",
    "    # Now, we want to convert the raw text in our desc to a \"bag of words\" vector\n",
    "    # To do that, we use the CountVectorizor\n",
    "    vectorizer = CountVectorizer()\n",
    "\n",
    "    # first, we \"teach\" the vectorizor which tokens to vectorize on\n",
    "    vectorizer.fit(summ)\n",
    "    # then we vectorize those speeches\n",
    "    summ_features = vectorizer.transform(summ)\n",
    "\n",
    "    #print vectorizer.get_feature_names()\n",
    "    x=vectorizer.transform(summ).toarray()\n",
    "\n",
    "    neigh = NearestNeighbors(n_neighbors=10)\n",
    "    neigh.fit(summ_features) \n",
    "        \n",
    "    for idx, row in ds.iterrows():\n",
    "        #add to frame\n",
    "        nn=neigh.kneighbors([x[idx]])\n",
    "        nn=nn[1][0]\n",
    "        arr=[row['name'], [names[n] for n in nn], x[idx]]\n",
    "        frame.loc[len(frame)]=arr\n",
    "    return frame"
   ]
  },
  {
   "cell_type": "code",
   "execution_count": 3,
   "metadata": {
    "collapsed": false
   },
   "outputs": [
    {
     "name": "stdout",
     "output_type": "stream",
     "text": [
      "Training data ingested in 0.363903045654 seconds.\n",
      "Engine trained in 20.6557528973 seconds.\n"
     ]
    }
   ],
   "source": [
    "#train, and create dataframe with 10 nearest neighbors\n",
    "df=train('companies.csv') #train, and create dataframe with 10 nearest neighbors"
   ]
  },
  {
   "cell_type": "code",
   "execution_count": 4,
   "metadata": {
    "collapsed": false
   },
   "outputs": [
    {
     "data": {
      "text/html": [
       "<div>\n",
       "<table border=\"1\" class=\"dataframe\">\n",
       "  <thead>\n",
       "    <tr style=\"text-align: right;\">\n",
       "      <th></th>\n",
       "      <th>name</th>\n",
       "      <th>nearest_neighbor</th>\n",
       "      <th>features</th>\n",
       "    </tr>\n",
       "  </thead>\n",
       "  <tbody>\n",
       "    <tr>\n",
       "      <th>0</th>\n",
       "      <td>Octagen</td>\n",
       "      <td>[Octagen, Twinstrand Therapeutics, Axovan, Zet...</td>\n",
       "      <td>[0, 0, 0, 0, 0, 0, 0, 0, 0, 0, 0, 0, 0, 0, 0, ...</td>\n",
       "    </tr>\n",
       "    <tr>\n",
       "      <th>1</th>\n",
       "      <td>GeckoGo</td>\n",
       "      <td>[GeckoGo, Truth Soft, DealAngel, PortugalRes, ...</td>\n",
       "      <td>[0, 0, 0, 0, 0, 0, 0, 0, 0, 0, 0, 0, 0, 0, 0, ...</td>\n",
       "    </tr>\n",
       "    <tr>\n",
       "      <th>2</th>\n",
       "      <td>Yantra</td>\n",
       "      <td>[Yantra, Factory Logic, Valdero, GEOCOMtms, Me...</td>\n",
       "      <td>[0, 0, 0, 0, 0, 0, 0, 0, 0, 0, 0, 0, 0, 0, 0, ...</td>\n",
       "    </tr>\n",
       "    <tr>\n",
       "      <th>3</th>\n",
       "      <td>Insider Pages</td>\n",
       "      <td>[Insider Pages, Tinmar Holdings, Sprockets, Lo...</td>\n",
       "      <td>[0, 0, 0, 0, 0, 0, 0, 0, 0, 0, 0, 0, 0, 0, 0, ...</td>\n",
       "    </tr>\n",
       "    <tr>\n",
       "      <th>4</th>\n",
       "      <td>GrindMedia</td>\n",
       "      <td>[GrindMedia, Atomic Moguls, Viva! Vision, NuCo...</td>\n",
       "      <td>[0, 0, 0, 0, 0, 0, 0, 0, 0, 0, 0, 0, 0, 0, 0, ...</td>\n",
       "    </tr>\n",
       "  </tbody>\n",
       "</table>\n",
       "</div>"
      ],
      "text/plain": [
       "            name                                   nearest_neighbor  \\\n",
       "0        Octagen  [Octagen, Twinstrand Therapeutics, Axovan, Zet...   \n",
       "1        GeckoGo  [GeckoGo, Truth Soft, DealAngel, PortugalRes, ...   \n",
       "2         Yantra  [Yantra, Factory Logic, Valdero, GEOCOMtms, Me...   \n",
       "3  Insider Pages  [Insider Pages, Tinmar Holdings, Sprockets, Lo...   \n",
       "4     GrindMedia  [GrindMedia, Atomic Moguls, Viva! Vision, NuCo...   \n",
       "\n",
       "                                            features  \n",
       "0  [0, 0, 0, 0, 0, 0, 0, 0, 0, 0, 0, 0, 0, 0, 0, ...  \n",
       "1  [0, 0, 0, 0, 0, 0, 0, 0, 0, 0, 0, 0, 0, 0, 0, ...  \n",
       "2  [0, 0, 0, 0, 0, 0, 0, 0, 0, 0, 0, 0, 0, 0, 0, ...  \n",
       "3  [0, 0, 0, 0, 0, 0, 0, 0, 0, 0, 0, 0, 0, 0, 0, ...  \n",
       "4  [0, 0, 0, 0, 0, 0, 0, 0, 0, 0, 0, 0, 0, 0, 0, ...  "
      ]
     },
     "execution_count": 4,
     "metadata": {},
     "output_type": "execute_result"
    }
   ],
   "source": [
    "#see an example output of df\n",
    "df.head()"
   ]
  },
  {
   "cell_type": "code",
   "execution_count": 5,
   "metadata": {
    "collapsed": false
   },
   "outputs": [],
   "source": [
    "#load original dataframe for checking performance\n",
    "ds = pd.read_csv(\"companies.csv\", usecols=[\"name\", \"desc\"])"
   ]
  },
  {
   "cell_type": "code",
   "execution_count": 6,
   "metadata": {
    "collapsed": false
   },
   "outputs": [
    {
     "data": {
      "text/html": [
       "<div>\n",
       "<table border=\"1\" class=\"dataframe\">\n",
       "  <thead>\n",
       "    <tr style=\"text-align: right;\">\n",
       "      <th></th>\n",
       "      <th>name</th>\n",
       "      <th>desc</th>\n",
       "    </tr>\n",
       "  </thead>\n",
       "  <tbody>\n",
       "    <tr>\n",
       "      <th>0</th>\n",
       "      <td>Octagen</td>\n",
       "      <td>Operator of biopharmaceutical company. The com...</td>\n",
       "    </tr>\n",
       "    <tr>\n",
       "      <th>1</th>\n",
       "      <td>GeckoGo</td>\n",
       "      <td>Operator of an online travel website. The comp...</td>\n",
       "    </tr>\n",
       "    <tr>\n",
       "      <th>2</th>\n",
       "      <td>Yantra</td>\n",
       "      <td>Provider of distributed order management and s...</td>\n",
       "    </tr>\n",
       "    <tr>\n",
       "      <th>3</th>\n",
       "      <td>Insider Pages</td>\n",
       "      <td>Operator of online directory and reviews site ...</td>\n",
       "    </tr>\n",
       "    <tr>\n",
       "      <th>4</th>\n",
       "      <td>GrindMedia</td>\n",
       "      <td>Provider of online action sports and entertain...</td>\n",
       "    </tr>\n",
       "  </tbody>\n",
       "</table>\n",
       "</div>"
      ],
      "text/plain": [
       "            name                                               desc\n",
       "0        Octagen  Operator of biopharmaceutical company. The com...\n",
       "1        GeckoGo  Operator of an online travel website. The comp...\n",
       "2         Yantra  Provider of distributed order management and s...\n",
       "3  Insider Pages  Operator of online directory and reviews site ...\n",
       "4     GrindMedia  Provider of online action sports and entertain..."
      ]
     },
     "execution_count": 6,
     "metadata": {},
     "output_type": "execute_result"
    }
   ],
   "source": [
    "ds.head()"
   ]
  },
  {
   "cell_type": "code",
   "execution_count": 7,
   "metadata": {
    "collapsed": false
   },
   "outputs": [
    {
     "data": {
      "text/plain": [
       "'Operator of biopharmaceutical company. The company develops drugs for hemophilia, other genetic disorders and variations of recombinant B domain to avoid inactivation by flying below the radar screen of the immune system.'"
      ]
     },
     "execution_count": 7,
     "metadata": {},
     "output_type": "execute_result"
    }
   ],
   "source": [
    "ds['desc'][0]\n"
   ]
  },
  {
   "cell_type": "code",
   "execution_count": 14,
   "metadata": {
    "collapsed": false
   },
   "outputs": [],
   "source": [
    "#functions to check performance \n",
    "def checker(firm_name):\n",
    "    ind=df[(df.name==firm_name)].nearest_neighbor[df[(df.name==firm_name)].index[0]]\n",
    "    print firm_name\n",
    "    print ds[(ds.name==firm_name)].desc[ds[(ds.name==firm_name)].index[0]]\n",
    "    print '===============Neighbors==============='\n",
    "    for i in ind:\n",
    "        print i\n",
    "        print ds[(ds.name==i)].desc[ds[(ds.name==i)].index[0]]\n",
    "        print '-----------------------------'"
   ]
  },
  {
   "cell_type": "markdown",
   "metadata": {},
   "source": [
    "# Checking Performance\n",
    "\n",
    "For this Problem, I implement three seperate models. Therefore to try and get both an understanding of which implementation may be superior and if an implementation even makes sense, I create a function that prints the name and description of a firm we want to look at then prints a list of the nearest firms and thier descriptions. The idea is to read about the other firms and see if they intuitively seem similar. \n",
    "\n",
    "For purpose of measuring performance across the three models, I have chosen three firms randomly: Octagen, Yantra, Disocvery Engine. In each implementation, we check performance on the same three companies. Ofocurse, you can check additional firms by running the \"checker\" function. \n",
    "\n",
    "Also, The discusion of the models' performances will be in the capstone project report under 'Results'."
   ]
  },
  {
   "cell_type": "code",
   "execution_count": 15,
   "metadata": {
    "collapsed": false
   },
   "outputs": [
    {
     "name": "stdout",
     "output_type": "stream",
     "text": [
      "Octagen\n",
      "Operator of biopharmaceutical company. The company develops drugs for hemophilia, other genetic disorders and variations of recombinant B domain to avoid inactivation by flying below the radar screen of the immune system.\n",
      "===============Neighbors===============\n",
      "Octagen\n",
      "Operator of biopharmaceutical company. The company develops drugs for hemophilia, other genetic disorders and variations of recombinant B domain to avoid inactivation by flying below the radar screen of the immune system.\n",
      "-----------------------------\n",
      "Twinstrand Therapeutics\n",
      "Operator of biopharmaceutical company. The company engages in the discovery, development and commercialization of biological drugs for the treatment of life threatening diseases.\n",
      "-----------------------------\n",
      "Axovan\n",
      "Operator of a biopharmaceutical research company. The company is involved in the discovery of drugs linked to G protein-coupled receptors.\n",
      "-----------------------------\n",
      "ZetaRx Biosciences\n",
      "Operator of biotechnology company. The company engages in the development of therapies for cancer and other diseases using genetically engineered lymphocites.\n",
      "-----------------------------\n",
      "Frisørkjeden Tango Norge\n",
      "Operator of a hairdressing chain. The company was established because of the growing demand for hair saloons.\n",
      "-----------------------------\n",
      "Loran International Technologies\n",
      "Operator of a data networking company. The company is a system integrator of high speed networks.\n",
      "-----------------------------\n",
      "Vantia\n",
      "Developer of small molecule drugs. The company develops drugs for the treatment of nocturia, dysmenorrhoea, respiratory disorders, inflammation, oncological and fibrotic diseases.\n",
      "-----------------------------\n",
      "Drops\n",
      "Operator of a medical device company. The company supplies medical products for the treatment of renal function.\n",
      "-----------------------------\n",
      "Ocean Films\n",
      "Provider of financial services to the film industry. The company primarily engages in the production of films and documentaries.\n",
      "-----------------------------\n",
      "Oxxon Therapeutics\n",
      "Developer of novel immunotherapeutics. The company offers products for the treatment of chronic infectious diseases and cancer.\n",
      "-----------------------------\n"
     ]
    }
   ],
   "source": [
    "#check Octagen\n",
    "checker('Octagen')"
   ]
  },
  {
   "cell_type": "code",
   "execution_count": 16,
   "metadata": {
    "collapsed": false
   },
   "outputs": [
    {
     "name": "stdout",
     "output_type": "stream",
     "text": [
      "Yantra\n",
      "Provider of distributed order management and supply chain fulfillment solutions for retail, distribution, logistics, and manufacturing industries. The company focuses on distributed order management, supply collaboration, inventory synchronization, reverse logistics, logistics management, networked warehouse management, and delivery and service scheduling. It also provides consulting and support services. It offers Yantra 7x products, a comprehensive group of software applications, which enable organizations to manage their fulfillment processes across customers, operations, suppliers, and partners.\n",
      "===============Neighbors===============\n",
      "Yantra\n",
      "Provider of distributed order management and supply chain fulfillment solutions for retail, distribution, logistics, and manufacturing industries. The company focuses on distributed order management, supply collaboration, inventory synchronization, reverse logistics, logistics management, networked warehouse management, and delivery and service scheduling. It also provides consulting and support services. It offers Yantra 7x products, a comprehensive group of software applications, which enable organizations to manage their fulfillment processes across customers, operations, suppliers, and partners.\n",
      "-----------------------------\n",
      "Factory Logic\n",
      "Supplier of software for lean scheduling and supply synchronization. The company provides manufacturing and supply chain management solutions to the automotive, electronics, industrial equipment and aerospace industries.\n",
      "-----------------------------\n",
      "Valdero\n",
      "Provider of supply chain performance management and analytical collaboration software applications. The company provides inventory visibility and order fulfillment software applications.\n",
      "-----------------------------\n",
      "GEOCOMtms\n",
      "Provider of integrated fleet management software to local and short-haul pickup and delivery operations. The company also provides implementation, training and support services.\n",
      "-----------------------------\n",
      "Mercari Technologies\n",
      "Provider of supply-chain management and e-fulfillment software company. The company\\'s merchandising solutions bringing retailers and manufacturers closer to their customers by integrating consumer behavior data with merchandise planning, supply chain optimization, category management and financial analysis.\n",
      "-----------------------------\n",
      "Aspective\n",
      "Provider of e-commerce and WAP-based mobile applications and services for customer relationship management, business intelligence, data management and field service management. The company also provides managed and support services, which include application support, support desk, infrastructure, monitoring and outsourcing services.\n",
      "-----------------------------\n",
      "BenefitPoint\n",
      "Provider and developer of hosted integrated employee benefits infrastructure applications. The company also develops customer relationship management and procurement software platform. It offers its services and solutions to brokers, consultants, carriers, and general agents.\n",
      "-----------------------------\n",
      "FreshTL\n",
      "Provider of a platform for management software, cloud computing, compliance and risk management. The company provides applications and business tools to make information available across the enterprise and enable people to communicate.\n",
      "-----------------------------\n",
      "MatrixOne\n",
      "Provider of collaborative product lifecycle management technology and software. The company provides line of products which helps organizations to collaborate different departments and geographic locations, customers, suppliers and other business partners.\n",
      "-----------------------------\n",
      "B-there\n",
      "Provider of online event management and consolidation solutions. The company offers Internet registration, housing and transportation management solution for the meeting and trade show industries.\n",
      "-----------------------------\n"
     ]
    }
   ],
   "source": [
    "#check Yantra\n",
    "checker('Yantra')"
   ]
  },
  {
   "cell_type": "code",
   "execution_count": 17,
   "metadata": {
    "collapsed": false
   },
   "outputs": [
    {
     "name": "stdout",
     "output_type": "stream",
     "text": [
      "Discovery Engine\n",
      "Developer of an internet search engine. The company offers an interaction model of search engine that also can also compile information from multiple sources.\n",
      "===============Neighbors===============\n",
      "Discovery Engine\n",
      "Developer of an internet search engine. The company offers an interaction model of search engine that also can also compile information from multiple sources.\n",
      "-----------------------------\n",
      "Zebido.com\n",
      "Operator of an auction website.\n",
      "-----------------------------\n",
      "ES Enterprise Solutions\n",
      "Provider of an online software service.\n",
      "-----------------------------\n",
      "Realtime Worlds\n",
      "Developer of video games.\n",
      "-----------------------------\n",
      "La La Media\n",
      "Operator of an online music store.\n",
      "-----------------------------\n",
      "Peryskop.pl\n",
      "Provider of an online search engine. The company provides semantic search engine for products and product\\'s reviews in Polish and English.\n",
      "-----------------------------\n",
      "PlanarMag\n",
      "Developer of planar electromagnetic components.\n",
      "-----------------------------\n",
      "Xaar\n",
      "Developer of ink jet technologies.\n",
      "-----------------------------\n",
      "Genesis Teleserv\n",
      "Provider of integrated customer contact services. The company also integrates information management systems.\n",
      "-----------------------------\n",
      "Join the Company\n",
      "Creator of websites.\n",
      "-----------------------------\n"
     ]
    }
   ],
   "source": [
    "#check Discovery Engine\n",
    "checker('Discovery Engine')"
   ]
  },
  {
   "cell_type": "code",
   "execution_count": 18,
   "metadata": {
    "collapsed": false
   },
   "outputs": [],
   "source": [
    "#prepare t-sne, commented out because slow and performs terrible\n",
    "#feat=[list(df['features'][i]) for i in range(len(df['features']))]\n",
    "#feats = np.array(feat)\n",
    "#model = TSNE(n_components=2, random_state=0)\n",
    "#np.set_printoptions(suppress=True)\n"
   ]
  },
  {
   "cell_type": "code",
   "execution_count": 19,
   "metadata": {
    "collapsed": false
   },
   "outputs": [],
   "source": [
    "#takes a while, apply t-sne (reduce features dim to 2)\n",
    "#feats2d=model.fit_transform(feats) "
   ]
  },
  {
   "cell_type": "code",
   "execution_count": 20,
   "metadata": {
    "collapsed": true
   },
   "outputs": [],
   "source": [
    "def plot(firm_name):\n",
    "    plt.clf()\n",
    "    names1=list(df['name'])\n",
    "    #names=[n.encode('utf-8') for n in names]\n",
    "    x1=[feats2d[i][0] for i in range(len(names1))]\n",
    "    y1=[feats2d[i][1] for i in range(len(names1))]\n",
    "    nn=df[(df.name==firm_name)].nearest_neighbor[df[(df.name==firm_name)].index[0]]\n",
    "    \n",
    "    x=[]\n",
    "    y=[]\n",
    "    names=[]\n",
    "    \n",
    "    for n in nn:\n",
    "        for i, name in enumerate(names1):\n",
    "            if n==name:\n",
    "                names.append(name)\n",
    "                x.append(x1[i])\n",
    "                y.append(y1[i])  \n",
    "                \n",
    "    #ploat scatter plot\n",
    "    plt.scatter(x,y,color='green')\n",
    "    \n",
    "    for i, name in enumerate(names):\n",
    "        try:\n",
    "            plt.annotate(name, (x[i],y[i]))\n",
    "        except:\n",
    "            print 'name'\n",
    "\n",
    "    #make titles\n",
    "    plt.title(\"t-sne plot\")\n",
    "    plt.xlabel(\"X\")\n",
    "    plt.ylabel(\"Y\")\n",
    "\n",
    "    plt.show"
   ]
  },
  {
   "cell_type": "code",
   "execution_count": 21,
   "metadata": {
    "collapsed": false
   },
   "outputs": [],
   "source": [
    "#t-sne doesn't look very good\n",
    "#plot('Yantra')"
   ]
  },
  {
   "cell_type": "markdown",
   "metadata": {},
   "source": [
    "# Improving the Model\n",
    "\n",
    "Since this is a very naive case, there are a lot of potential improvements. I will list them in no particular order.\n",
    "\n",
    "- Use a different method for feature extraction: TF-IDF or some word vectorization (like word2vec)\n",
    "- Use n-grams to capture phrases\n",
    "- Change the distance measure: possibly cosine or jaccard\n",
    "- Utilize keyswords: either append to description in some way or have a seperate feature extraction process for them.\n",
    "- Mine more data: could create a webscraper with Selenium to collect more information about the firms; one thought is use crunchbase to get a competitor list. "
   ]
  }
 ],
 "metadata": {
  "kernelspec": {
   "display_name": "Python [dato-env]",
   "language": "python",
   "name": "Python [dato-env]"
  },
  "language_info": {
   "codemirror_mode": {
    "name": "ipython",
    "version": 2
   },
   "file_extension": ".py",
   "mimetype": "text/x-python",
   "name": "python",
   "nbconvert_exporter": "python",
   "pygments_lexer": "ipython2",
   "version": "2.7.12"
  }
 },
 "nbformat": 4,
 "nbformat_minor": 0
}
