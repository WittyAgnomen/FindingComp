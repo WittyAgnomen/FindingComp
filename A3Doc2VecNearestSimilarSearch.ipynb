{
 "cells": [
  {
   "cell_type": "markdown",
   "metadata": {},
   "source": [
    "#  Approach 3: Doc2Vec Similar Search\n",
    "\n",
    "This approach will treat each description as a document and convert the words into an embedding and the firms themselves into a vector embedding. Then we will just look at the most similar other firm embeddinings using cosine similarity. \n",
    "\n",
    "## Feature Extraction\n",
    "\n",
    "Doc2vec (aka paragraph2vec, aka sentence embeddings) modifies the word2vec algorithm to unsupervised learning of continuous representations for larger blocks of text, such as sentences, paragraphs or entire documents. Note: distributed memory model is the default when running Doc2Vec\n",
    "\n",
    "The algorithm runs through the sentences iterator twice: once to build the vocab, and once to train the model on the input data, learning a vector representation for each word and for each label in the dataset. Here the input data is the the firm's description and the label is the the firm's name. \n",
    "\n",
    "One caveat of the way this algorithm runs is that, since the learning rate decrease over the course of iterating over the data, labels which are only seen in a single LabeledSentence during training will only be trained with a fixed learning rate. This frequently produces less than optimal results. To obtain better results we will iterate over the data several times.\n",
    "\n",
    "Note on space complexity: With the current implementation, all label vectors are stored separately in RAM. In this case, a unique firm name per description, causes memory usage to grow linearly with the size of the corpus.\n",
    "\n",
    "## Measuring Similar in Doc2Vec\n",
    "\n",
    "To measure the similarity of the firm, we use the Gensim's Doc2Vec built in 'most similar' function. This method computes cosine similarity between a simple mean of the projection weight vectors of the given docs. The default number of most similar returned by this function is 10 (topn=10)."
   ]
  },
  {
   "cell_type": "code",
   "execution_count": 1,
   "metadata": {
    "collapsed": false
   },
   "outputs": [],
   "source": [
    "# load modules\n",
    "from gensim import utils\n",
    "from gensim.models.doc2vec import LabeledSentence\n",
    "from gensim.models import Doc2Vec\n",
    "import pandas as pd\n",
    "import numpy\n",
    "import re\n",
    "import time\n",
    "from random import shuffle\n",
    "from nltk.corpus import stopwords"
   ]
  },
  {
   "cell_type": "code",
   "execution_count": 2,
   "metadata": {
    "collapsed": true
   },
   "outputs": [],
   "source": [
    "#functions to create Doc2Vec Similar Search\n",
    "def train(data_source):\n",
    "    start = time.time()\n",
    "    ds = pd.read_csv(data_source, usecols=[\"name\", \"desc\"])\n",
    "    ds['desc']=ds['desc'].apply(lambda x: x.lower()) #convert to lower\n",
    "    ds['desc']=ds['desc'].apply(lambda x: re.sub(\"[^a-zA-Z]\",\" \", x)) #remove all non leters\n",
    "    ds['desc']=ds['desc'].apply(lambda x: x.replace(\"  \",\" \")) #replace double spaces\n",
    "    print \"Training data ingested in %s seconds.\" % (time.time() - start)\n",
    "    start = time.time()\n",
    "    frame=_train(ds)\n",
    "    print \"Engine trained in %s seconds.\" % (time.time() - start)\n",
    "    return frame\n",
    "\n",
    "def _train(ds):\n",
    "    \"\"\"\n",
    "    create dataframe to hold firm name and most similar firms\n",
    "    transform original data into LabeledSenetence object\n",
    "    train Doc2Vec in iterations while dropping learning rate\n",
    "    save Doc2Vec model\n",
    "    print results to dataframe  \n",
    "    \"\"\"\n",
    "\n",
    "    columns = ['name','nearest_firm']\n",
    "    frame = pd.DataFrame(columns=columns)\n",
    "    \n",
    "    train_set=[]\n",
    "\n",
    "    for idx, row in ds.iterrows():\n",
    "        train_set.append(LabeledSentence([word for word in row['desc'].split() if\n",
    "                                      word not in stopwords.words('english')],\n",
    "                                     [row['name']]))\n",
    "    \n",
    "    #manually controlling the learning rate over the course of several iterations\n",
    "    model = Doc2Vec(alpha=0.025, min_alpha=0.025, size=100)  # use fixed learning rate\n",
    "    model.build_vocab(train_set)\n",
    "    for epoch in range(20):\n",
    "        model.train(train_set)\n",
    "        model.alpha -= 0.002  # decrease the learning rate\n",
    "        model.min_alpha = model.alpha  # fix the learning rate, no decay\n",
    "        \n",
    "    model.save('./firm2vec.d2v')\n",
    "        \n",
    "    for idx, row in ds.iterrows():\n",
    "        #add to frame\n",
    "        arr=[row['name'], model.docvecs.most_similar(row['name'])]\n",
    "        frame.loc[len(frame)]=arr\n",
    "    return frame"
   ]
  },
  {
   "cell_type": "code",
   "execution_count": 3,
   "metadata": {
    "collapsed": false
   },
   "outputs": [],
   "source": [
    "#some useful functions for Doc2vec\n",
    "#model = Doc2Vec.load('./firm2vec.d2v') #load model\n",
    "#model.most_similar('bio') #look at most similar word on trained model\n",
    "#model.vocab #see the model vocab\n",
    "#model.docvecs['Yantra'] #see vector embedding of a firm"
   ]
  },
  {
   "cell_type": "code",
   "execution_count": 4,
   "metadata": {
    "collapsed": false
   },
   "outputs": [
    {
     "name": "stdout",
     "output_type": "stream",
     "text": [
      "Training data ingested in 0.164169073105 seconds.\n",
      "Engine trained in 57.4152131081 seconds.\n"
     ]
    }
   ],
   "source": [
    "#train, and create dataframe with 10 similar firms\n",
    "df=train('companies.csv')"
   ]
  },
  {
   "cell_type": "code",
   "execution_count": 5,
   "metadata": {
    "collapsed": false
   },
   "outputs": [
    {
     "data": {
      "text/html": [
       "<div>\n",
       "<table border=\"1\" class=\"dataframe\">\n",
       "  <thead>\n",
       "    <tr style=\"text-align: right;\">\n",
       "      <th></th>\n",
       "      <th>name</th>\n",
       "      <th>nearest_firm</th>\n",
       "    </tr>\n",
       "  </thead>\n",
       "  <tbody>\n",
       "    <tr>\n",
       "      <th>0</th>\n",
       "      <td>Octagen</td>\n",
       "      <td>[(Destination Kiruna, 0.477032274008), (Perine...</td>\n",
       "    </tr>\n",
       "    <tr>\n",
       "      <th>1</th>\n",
       "      <td>GeckoGo</td>\n",
       "      <td>[(Snaptracs, 0.43338021636), (Mobile Travel Te...</td>\n",
       "    </tr>\n",
       "    <tr>\n",
       "      <th>2</th>\n",
       "      <td>Yantra</td>\n",
       "      <td>[(Hewlett-Packard, 0.507278323174), (Angiotech...</td>\n",
       "    </tr>\n",
       "    <tr>\n",
       "      <th>3</th>\n",
       "      <td>Insider Pages</td>\n",
       "      <td>[(Sports and Things, 0.384937077761), (Kontera...</td>\n",
       "    </tr>\n",
       "    <tr>\n",
       "      <th>4</th>\n",
       "      <td>GrindMedia</td>\n",
       "      <td>[(Homeworkcentral.com, 0.468018054962), (Spots...</td>\n",
       "    </tr>\n",
       "  </tbody>\n",
       "</table>\n",
       "</div>"
      ],
      "text/plain": [
       "            name                                       nearest_firm\n",
       "0        Octagen  [(Destination Kiruna, 0.477032274008), (Perine...\n",
       "1        GeckoGo  [(Snaptracs, 0.43338021636), (Mobile Travel Te...\n",
       "2         Yantra  [(Hewlett-Packard, 0.507278323174), (Angiotech...\n",
       "3  Insider Pages  [(Sports and Things, 0.384937077761), (Kontera...\n",
       "4     GrindMedia  [(Homeworkcentral.com, 0.468018054962), (Spots..."
      ]
     },
     "execution_count": 5,
     "metadata": {},
     "output_type": "execute_result"
    }
   ],
   "source": [
    "#see an example output of df\n",
    "df.head()"
   ]
  },
  {
   "cell_type": "code",
   "execution_count": 6,
   "metadata": {
    "collapsed": true
   },
   "outputs": [],
   "source": [
    "#load original dataframe for checking performance\n",
    "ds = pd.read_csv('companies.csv', usecols=[\"name\", \"desc\"]) "
   ]
  },
  {
   "cell_type": "code",
   "execution_count": 7,
   "metadata": {
    "collapsed": true
   },
   "outputs": [],
   "source": [
    "#functions to check performance \n",
    "def checker(firm_name):\n",
    "    ind=df[(df.name==firm_name)].nearest_firm[df[(df.name==firm_name)].index[0]]\n",
    "    ind=[word[0] for word in ind]\n",
    "    print firm_name\n",
    "    print ds[(ds.name==firm_name)].desc[ds[(ds.name==firm_name)].index[0]]\n",
    "    print '===============Neighbors==============='\n",
    "    for i in ind:\n",
    "        print i\n",
    "        print ds[(ds.name==i)].desc[ds[(ds.name==i)].index[0]]\n",
    "        print '-----------------------------'"
   ]
  },
  {
   "cell_type": "code",
   "execution_count": 8,
   "metadata": {
    "collapsed": false
   },
   "outputs": [
    {
     "name": "stdout",
     "output_type": "stream",
     "text": [
      "Octagen\n",
      "Operator of biopharmaceutical company. The company develops drugs for hemophilia, other genetic disorders and variations of recombinant B domain to avoid inactivation by flying below the radar screen of the immune system.\n",
      "===============Neighbors===============\n",
      "Destination Kiruna\n",
      "Operator of a tourism company in the region of Kiruna. The company organizes events, guided tours, self-drive tours and offers holiday and tourism packages.\n",
      "-----------------------------\n",
      "Periness\n",
      "Operator of a biotechnology company focusing on addressing the problem of male infertility. The company’s product is a systemic protein-based drug for treatment of male sub-fertility.\n",
      "-----------------------------\n",
      "Edge Therapeutics\n",
      "Provider of therapeutic products for acute, fatal and debilitating medical conditions. The company develops implantable technology for direct delivery of therapeutic compounds to the site of brain injury.\n",
      "-----------------------------\n",
      "BMDSys Production\n",
      "Developer of cardiac diagnostic imaging systems. The company uses magnetic field imaging system in medical diagnosis. It also helps to identify persons with a risk for sudden cardiac problem by cardiac electrophysiology.\n",
      "-----------------------------\n",
      "Carolus Therapeutics\n",
      "Developer of biopharmaceuticals aimed at treating acute and chronic inflammation. The company develops new drugs that are aimed to provide relief to patients suffering from a host of disorders triggered by acute and chronic inflammation.\n",
      "-----------------------------\n",
      "Guia de Apartamentos Niumba\n",
      "Provider of an online directory of holiday apartments and houses for rent in Spain. The company\\'s online platform allows proprietors to advertise their apartments or rural houses for the travelers to rent them.\n",
      "-----------------------------\n",
      "Mariner Health\n",
      "Provider of sub-acute medical services. The company provides long-term health care services offering assistance through nursing facilities and long-term acute care hospitals which includes daily living, therapy and rehabilitation.\n",
      "-----------------------------\n",
      "TransCella\n",
      "Developer of technology for utilization of multi core processors.\n",
      "-----------------------------\n",
      "PriceMatch\n",
      "Provider of a revenue management platform for hotels. The company develops econometric algorithms forecasting demand and feeding price recommendations to hoteliers, helping them adjust room prices to demand and thus trying to increase revenue.\n",
      "-----------------------------\n",
      "Mistral Pharma\n",
      "Developer of drug-delivery systems. The company develops new controlled-delivery profiles for existing commercial drugs.\n",
      "-----------------------------\n"
     ]
    }
   ],
   "source": [
    "#check Octagen\n",
    "checker('Octagen')"
   ]
  },
  {
   "cell_type": "code",
   "execution_count": 9,
   "metadata": {
    "collapsed": false
   },
   "outputs": [
    {
     "name": "stdout",
     "output_type": "stream",
     "text": [
      "Yantra\n",
      "Provider of distributed order management and supply chain fulfillment solutions for retail, distribution, logistics, and manufacturing industries. The company focuses on distributed order management, supply collaboration, inventory synchronization, reverse logistics, logistics management, networked warehouse management, and delivery and service scheduling. It also provides consulting and support services. It offers Yantra 7x products, a comprehensive group of software applications, which enable organizations to manage their fulfillment processes across customers, operations, suppliers, and partners.\n",
      "===============Neighbors===============\n",
      "Hewlett-Packard\n",
      "HP Inc, formerly Hewlett-Packard Company was incorporated in 1947 under the laws of the State of California as the successor to a partnership founded in 1939 by William R. Hewlett and David Packard. Effective in May 1998, it changed its state of incorporation from California to Delaware. The Company is a provider of products, technologies, software, solutions and services to individual consumers, small- and medium-sized businesses (SMBs) and large enterprises, including customers in the government, health and education sectors. The Company\\'s offerings span multi-vendor customer services, including infrastructure technology and business process outsourcing, technology support and maintenance, application development and support services & consulting and integration services; enterprise information technology infrastructure, including enterprise storage and server technology, networking products and resources, and software that optimizes business technology investments, personal computing and other access devices and imaging and printing-related products and services. It has seven business segments for financial reporting purposes: Services, Enterprise Storage and Servers, HP Software, the Personal Systems Group (PSG), the Imaging and Printing Group (IPG), HP Financial Services (HPFS), and Corporate Investments. The HP Enterprise Business provides servers, storage, software and information technology (IT) services that enable enterprise and midmarket business customers to manage their current IT environments and transform IT into a business enabler. HP Software is a provider of enterprise and service-provider software and services. PSG is a provider of personal computers (PCs) in the world such as Commercial PCs, consumer PCs, workstations and handheld computing. IPG is the imaging and printing systems provider in the world for consumer and commercial printer hardware, printing supplies, printing media and scanning devices such as Laserjet, managed enterprise solutions, graphics solutions include large format printing, large format supplies, webpress supplies, Indigo printing, inkjet high speed production solutions. HPFS supports and enhances HP\\'s product and service solutions, providing a broad range of value-added financial life-cycle management services. The group offers leasing, financing, utility programs and asset recovery services, as well as financial asset management services for large enterprise customers. Corporate Investments includes Hewlett-Packard Laboratories, also known as HP Labs, network infrastructure products, mobile devices associated with the Palm acquisition, and certain business incubation projects. Revenue in this segment is attributable to the sale of certain network infrastructure products, including Ethernet switch products that enhance computing and enterprise solutions under the ProCurve, 3Com and TippingPoint brands.The Company depends on third party suppliers. The distribution is organized by direct and channel. The Company\\'s operations are subject to regulation under various federal, state, local and foreign laws concerning the environment, including laws addressing the discharge of pollutants into the air and water, the management and disposal of hazardous substances and wastes, and the cleanup of contaminated sites. HP recognizes revenue sales arrangement exists, delivery have occurred or services are rendered, the sales price or fee is fixed or determinable and collectability is reasonably assured. The company also recognizes hardware revenue on sales to channel partners, including resellers, distributors or value-added solution providers at the time of sale when the channel partners have economic substance apart from HP and HP has completed its obligations related to the sale.\n",
      "-----------------------------\n",
      "Angiotech Pharmaceuticals\n",
      "Angiotech Pharmaceuticals Inc is a pharmaceutical and medical device company that develops, manufactures and markets medical device products and technologies, primarily within the areas of interventional oncology, wound closure and ophthalmology. The Company currently operates in two segments: Medical Device Technologies and Licensed Technologies. Its Medical Device Technologies segment generates the majority of its revenue, develops, manufactures and markets a wide range of single use medical device products, as well as precision manufactured medical device components. These products and components are sold directly to hospitals, clinics, physicians and other end users, as well as to medical products distributors or other third-party medical device manufacturers. Its Licensed Technologies segment includes certain of its legacy technologies for which research and development activities have been concluded. This segment generates additional revenue in the form of royalties received from partners who have licensed and utilize these technologies in their medical device product lines. The Medical Device Technologies segment manufactures and markets single-use specialty medical device products and medical device components. These products are sold directly to end users or other third-party medical device manufacturers. This segment contains significant manufacturing capabilities as well as specialized direct and indirect sales and distribution capabilities. Many of its medical products are made using proprietary manufacturing processes and may be protected by its patent portfolio or proprietary know-how. Its significant product groups within this business segment include Interventional Oncology, Wound Closure, Ophthalmology and Medical Device Components. The Licensed Technologies segment includes certain of its legacy technologies for which research and development activities have been concluded. This segment generates additional revenue in the form of royalties received from partners who have licensed and utilize these technologies in their medical device product lines. Its principal revenues in this segment to date have been royalties derived from sales by its partner BSC of TAXUS paclitaxel-eluting coronary stents for the treatment of coronary artery disease. The Company markets and sells various medical device products through a group of specialized sales organizations that consist of direct sales and marketing personnel, which in some cases are supplemented by independent sales representatives and independent medical products distributors, depending on the product category, customer base or geographic location. The research and development, manufacturing, labeling, advertising, sale, marketing and third-party reimbursement of its medical device products and those of the Company\\'s suppliers, customers and partners are subject to extensive regulation by the FDA, the U.S. Department of Health and Human Services Centers for Medicare and Medicaid Services, and comparable regulatory agencies in state and local jurisdictions and in foreign countries. The Company faces competition from companies marketing, selling and developing medical device or other medical technologies that target the same diseases, clinical indications, customers or markets that its technologies target, as well as competition from other manufacturers of medical device components who sell to similar third party medical device manufacturers, including to some of its current customers.\n",
      "-----------------------------\n",
      "Phurnace Software\n",
      "Provider of Java application deployment. The company\\'s products include Phurnace Deliver, which eliminates configuration-related errors and reduces dependency on scripting. It’s products also include Phurnace WebSphere Portal Deliver, which handles the dependencies that is managed when making changes to or releasing new portlets, applications, themes, skins, and contents. In addition, it offers on-site training services to improve Java application deployments. It’s solutions automate Web application deployments ranging from installation to deployment to upgrades, as well as eliminating manual error-prone processes.\n",
      "-----------------------------\n",
      "Vipshop\n",
      "Provider of flash sales website. The company provides new sales events with foreign and domestic brand name clothing, accessories, cosmetics and designer household items at discounted prices in a limited time sales format.\n",
      "-----------------------------\n",
      "Harman International Industries\n",
      "Harman International Industries Inc was incorporated in 1980. The Company is engaged in the design and engineering of connected products and solutions for automakers, consumers and enterprises, including audio systems, visual products, enterprise automation solutions and connected services. Its manufacturing facilities are located in North America, Europe, Asia and South America. Its manufacturing facilities for its Infotainment segment are located in Hungary, Mexico, China, India, Brazil and the U.S. These facilities are used to manufacture infotainment systems. Its manufacturing facilities for its Lifestyle segment are located in Hungary, Mexico, China, India and the U.S. These facilities are used to manufacture its car audio systems. In North America, its principal Professional segment\\'s manufacturing facilities are located in Mexico for loudspeakers, in Indiana for electronic products including amplifiers and effects devices, and in Washington for video and control products. Its Professional segment\\'s electronics manufacturing in Europe includes mixing consoles in the United Kingdom, lighting solutions in Denmark and microphones and headphones in Austria. Its Professional segment\\'s electronics manufacturing in Brazil includes electronic loudspeakers, amplifiers and other components. Its Professional segment\\'s manufacturing in China includes audio electronics and loudspeakers. It sells its infotainment systems directly to automobile manufacturers in the U.S., Europe, Japan, South Korea, China and India, where it is installed as original equipment. It sells its Lifestyle car audio systems directly to automobile manufacturers in the U.S., Europe, India, Japan, China and South Korea. It sells its audio products to dealers via manufacturer\\'s representatives. Services segment is a provider of product engineering outsourcing services with software development and market analytics services groups located in India, Russia and the Ukraine. It has 2,281 trademark registrations and 360 pending trademark applications. The Company is subject to various Federal, state, local and international environmental laws and regulations, including those governing the use, discharge and disposal of hazardous materials and, increasingly, the recycling of its products and their packaging.\n",
      "-----------------------------\n",
      "Intuit\n",
      "Intuit Inc was incorporated in California in March 1984. The Company was reincorporated in Delaware and completed its initial public offering in March 1993. The Company creates business and financial management solutions that help simplify the business of life for small businesses, consumers, and accounting professionals. The Company\\'s products and services include; QuickBooks, TurboTax, Quicken and Mint, and help customers solve business and financial management problems including running a small business, paying bills, and filing income taxes. The Company\\'s tax preparation offerings for professional accountants includes; ProSeries and Lacerte. The Company operates its businesses into three segments; Small Business, Consumer Tax, and Professional Tax. The Small Business segment includes offerings targeting the small business market. It includes QuickBooks financial and business management online services and desktop software for small businesses and the accounting professionals serving small businesses; Small business payroll and employee management products and services; Payment processing services for small businesses, including merchant services such as credit and debit card processing; web-based transaction processing services for online merchants; secure online payments for small businesses and their customers through the Intuit Commerce Network; GoPayment mobile payment processing services; and QuickBooks Point of Sale solutions. The Consumer Tax segment targets consumers and includes TurboTax income tax preparation products and services and electronic tax filing services. The Professional Tax segment targets professional accountants and includes Lacerte, ProSeries, and Intuit Tax Online professional tax products and services. The Company faces competition in all businesses, both domestically and internationally. The Company\\'s competitors includes; Wells Fargo, JP Morgan Chase, Bank of America, First Data Corporation, Elavon, Global Payments, FIS-Certegy, PayPal and Square. The Company is subject to federal and state laws and government regulations concerning employee safety and health and environmental matters.\n",
      "-----------------------------\n",
      "Semiconductor Manufacturing International\n",
      "Semiconductor Manufacturing International Corp was established as an exempt company incorporated under the laws of the Cayman Islands on April 3, 2000. The Company, together with its subsidiaries, is engaged in the computer-aided design, manufacturing, testing, packaging, and trading of integrated circuits and other semiconductor services. The Company operates wafer fabrication facilities in China, including facilities at Beijing, Shanghai, Tianjin and Shenzhen, with an aggregate capacity of up to 247,500 8-inch wafer equivalents per month. It provides integrated circuit (IC) foundry and technology services at 0.35-micron to 28-nanometer. Currently, the Company has 300mm wafer fabrication facility (fab) and a 200mm mega-fab in Shanghai, a 300mm mega-fab and a second majority owned 300mm fab under development for advance nodes in Beijing, a 200mm fab in Tianjin, and a 200mm fab in Shenzhen. It also has customer service and marketing offices in the U.S., Europe, Japan, and Taiwan, and a representative office in Hong Kong. Its fabrication processes uses many raw materials, primarily silicon wafers, chemicals, gases, and various types of precious and other metals. It manufactures silicon wafers based on proprietary designs provided by its customers or third party designers. Its customers include IDMs, fabless semiconductor companies and systems companies. Its competitors are other pure-play foundries such as TSMC, UMC and Global Foundries. The Company is subject to substantial regulation by the Chinese government.\n",
      "-----------------------------\n",
      "Partnerware\n",
      "Provider of enterprise software and services for channel- focused companies. The company provides web- based extranet solutions that drives competitive advantages by providing faster channel and partner program execution.\n",
      "-----------------------------\n",
      "Twinstrand Therapeutics\n",
      "Operator of biopharmaceutical company. The company engages in the discovery, development and commercialization of biological drugs for the treatment of life threatening diseases.\n",
      "-----------------------------\n",
      "Ballard Power Systems\n",
      "Ballard Power Systems Inc was incorporated in the State of Canada on November 12, 2008. It is a clean energy growth company. The company is engaged in proton exchange membrane (PEM) fuel cell development and commercialization. The Company\\'s main business is the design, development, manufacture, sale and service of fuel cell products for a variety of applications, focusing on motive power (material handling and buses) and stationary power (back-up power, supplemental power, and distributed generation). A fuel cell is an environmentally clean electrochemical device that combines hydrogen fuel with oxygen (from the air) to produce electricity. Ballard fuel cell products feature high fuel efficiency, low operating temperature, low noise and vibration, compact size, quick response to changes in electrical demand, modular design and environmental cleanliness. The Company has four principal subsidiaries and affiliates: Ballard Fuel Cell Systems Inc., an Oregon corporation that develops methanol-fueled clean energy backup power systems; Dantherm Power A/S (\"Dantherm Power\"), a Denmark-based corporation jointly owned with Dantherm A/S that develops hydrogen-fueled clean energy backup power systems; BDF IP Holdings Ltd. (\"IP Holdings\"), a Canadian corporation that holds intellectual property assets; and Ballard Material Products Inc., a Delaware corporation that formerly developed and manufactured carbon fiber products for use in the automotive and fuel cell markets, and which now focuses on the development of fuel processing components and systems for use in fuel cell applications.\n",
      "-----------------------------\n"
     ]
    }
   ],
   "source": [
    "#check Yantra\n",
    "checker('Yantra')"
   ]
  },
  {
   "cell_type": "code",
   "execution_count": 10,
   "metadata": {
    "collapsed": false
   },
   "outputs": [
    {
     "name": "stdout",
     "output_type": "stream",
     "text": [
      "Discovery Engine\n",
      "Developer of an internet search engine. The company offers an interaction model of search engine that also can also compile information from multiple sources.\n",
      "===============Neighbors===============\n",
      "Eldat Communication\n",
      "Developer of Electronic Shelf Label (ESL) systems. The company develops electronic defense systems and integrated circuit designs.\n",
      "-----------------------------\n",
      "Photonics Applications\n",
      "Manufacturer of fiber-optic transmission technology for cable and wireless communications networks. The company also provide design, development and consulting services in fiber-optic transmission technology systems.\n",
      "-----------------------------\n",
      "Genesis Teleserv\n",
      "Provider of integrated customer contact services. The company also integrates information management systems.\n",
      "-----------------------------\n",
      "Afferent Corporation\n",
      "Developer of medical devices to treat chronic neurological dysfunction. The company\\'s lead technology enhances the function of mechanoreceptor cells involved in sensory perception as a means of restoring brain function following stroke, improving elderly balance and addressing complications resulting from diabetic neuropathy.\n",
      "-----------------------------\n",
      "Dispatching\n",
      "Operator of a promotional logistics company. The company also offers its clients various field support with services like storage, handling and distribution. It also offers promotional services including brand development, sales promotion and market research.\n",
      "-----------------------------\n",
      "Biocistronix\n",
      "Provider of drug discovery and medical research and development services. The company also engages in development of latest diagnostic techniques for various ailments.\n",
      "-----------------------------\n",
      "Cubic Wafer\n",
      "Developer of integrated circuits. The company offers hybrid integrated circuits and multi-functional 3D integrated circuits. The company also designs and manufactures its own optical connection products for data links and optical communication applications.\n",
      "-----------------------------\n",
      "Owlient\n",
      "Publisher of online games. The company develops web games which also enables interaction between players.\n",
      "-----------------------------\n",
      "Oxygen Media Group\n",
      "Operator of female-focused cable television network. The company integrates media brand by combining the qualities of internet and cable television.\n",
      "-----------------------------\n",
      "ShieldArc\n",
      "Developer of a security platform that monitors cloud applications. The company\\'s platform enables enterprises to protect their cloud asset without impacting end-user experience in without involving IT operations. The platform also provides tools for real-time monitoring and remediation.\n",
      "-----------------------------\n"
     ]
    }
   ],
   "source": [
    "#check Discovery Engine\n",
    "checker('Discovery Engine')"
   ]
  },
  {
   "cell_type": "markdown",
   "metadata": {
    "collapsed": true
   },
   "source": [
    "# Improving the Model\n",
    "\n",
    "The Model uses Gensim's Doc2Vec for feature extraction and then a cosine measure to get the most similar firms. Possible improvements are:\n",
    "\n",
    "- Tune the model: learn over more data, play with learning rate, play with stop words, etc.\n",
    "- Mine more data: could create a webscraper with Selenium to collect more information about the firms; one thought is use crunchbase to get a competitor list; another is just get more description data about the firms to help the firm and word embeddings."
   ]
  }
 ],
 "metadata": {
  "kernelspec": {
   "display_name": "Python [dato-env]",
   "language": "python",
   "name": "Python [dato-env]"
  },
  "language_info": {
   "codemirror_mode": {
    "name": "ipython",
    "version": 2
   },
   "file_extension": ".py",
   "mimetype": "text/x-python",
   "name": "python",
   "nbconvert_exporter": "python",
   "pygments_lexer": "ipython2",
   "version": "2.7.12"
  }
 },
 "nbformat": 4,
 "nbformat_minor": 0
}
