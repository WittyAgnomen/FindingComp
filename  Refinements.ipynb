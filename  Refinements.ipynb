{
 "cells": [
  {
   "cell_type": "markdown",
   "metadata": {},
   "source": [
    "# Refinements"
   ]
  },
  {
   "cell_type": "code",
   "execution_count": 35,
   "metadata": {
    "collapsed": true
   },
   "outputs": [],
   "source": [
    "#load modules\n",
    "import pandas as pd\n",
    "import time\n",
    "from sklearn.feature_extraction.text import TfidfVectorizer\n",
    "from sklearn.metrics.pairwise import linear_kernel\n",
    "from sklearn.manifold import TSNE\n",
    "from sklearn.decomposition import TruncatedSVD\n",
    "import matplotlib.pyplot as plt\n",
    "import numpy as  np\n",
    "\n",
    "# Pretty display for notebooks\n",
    "%matplotlib inline"
   ]
  },
  {
   "cell_type": "code",
   "execution_count": 36,
   "metadata": {
    "collapsed": true
   },
   "outputs": [],
   "source": [
    "#functions to create recommender\n",
    "def train(data_source):\n",
    "    start = time.time()\n",
    "    ds = pd.read_csv(data_source, usecols=[\"name\", \"desc\"])\n",
    "    print \"Training data ingested in %s seconds.\" % (time.time() - start)\n",
    "    start = time.time()\n",
    "    frame=_train(ds)\n",
    "    print \"Engine trained in %s seconds.\" % (time.time() - start)\n",
    "    return frame"
   ]
  },
  {
   "cell_type": "markdown",
   "metadata": {},
   "source": [
    "## Quad-grams\n",
    "\n",
    "For this refinement, we will add quad grams to the content based recommender engine code."
   ]
  },
  {
   "cell_type": "code",
   "execution_count": 37,
   "metadata": {
    "collapsed": true
   },
   "outputs": [],
   "source": [
    "def _train(ds):\n",
    "    \"\"\"\n",
    "    Train the engine.\n",
    "    Create a TF-IDF matrix of unigrams, bigrams, and trigrams\n",
    "    for each firm. The 'stop_words' param tells the TF-IDF\n",
    "    module to ignore common english words like 'the', etc.\n",
    "    Then we compute similarity between all products using\n",
    "    SciKit Leanr's linear_kernel (which in this case is\n",
    "    equivalent to cosine similarity).\n",
    "    Iterate through each item's similar items and store the\n",
    "    10 most-similar. \n",
    "    Similarities and their scores are stored in \n",
    "    :param ds: A pandas dataset containing two fields: description & id\n",
    "    \"\"\"\n",
    "\n",
    "    columns = ['name','content_recommended']\n",
    "    frame = pd.DataFrame(columns=columns)\n",
    "    \n",
    "    tf = TfidfVectorizer(analyzer='word',\n",
    "                         ngram_range=(1, 4),\n",
    "                         min_df=0,\n",
    "                         stop_words='english')\n",
    "    tfidf_matrix = tf.fit_transform(ds['desc'])\n",
    "\n",
    "    cosine_similarities = linear_kernel(tfidf_matrix, tfidf_matrix)\n",
    "\n",
    "    for idx, row in ds.iterrows():\n",
    "        similar_indices = cosine_similarities[idx].argsort()[:-11:-1]\n",
    "        similar_items = [(cosine_similarities[idx][i], ds['name'][i])\n",
    "                         for i in similar_indices]\n",
    "\n",
    "        # First item is the item itself, set 0 as 1 to remove it.\n",
    "        # This 'sum' is turns a list of tuples into a single tuple:\n",
    "        # [(1,2), (3,4)] -> (1,2,3,4)\n",
    "        flattened = sum(similar_items[0:], ())\n",
    "        #add to frame\n",
    "        arr=[row['name'], flattened]\n",
    "        frame.loc[len(frame)]=arr\n",
    "    return frame"
   ]
  },
  {
   "cell_type": "code",
   "execution_count": 38,
   "metadata": {
    "collapsed": false
   },
   "outputs": [
    {
     "name": "stdout",
     "output_type": "stream",
     "text": [
      "Training data ingested in 0.0337560176849 seconds.\n",
      "Engine trained in 15.4151630402 seconds.\n"
     ]
    }
   ],
   "source": [
    "#train, and create dataframe with 10 recommeneded firms\n",
    "df=train('companies.csv')"
   ]
  },
  {
   "cell_type": "code",
   "execution_count": 39,
   "metadata": {
    "collapsed": true
   },
   "outputs": [],
   "source": [
    "#load original dataframe for checking performance\n",
    "ds = pd.read_csv(\"companies.csv\", usecols=[\"name\", \"desc\"])"
   ]
  },
  {
   "cell_type": "code",
   "execution_count": 40,
   "metadata": {
    "collapsed": true
   },
   "outputs": [],
   "source": [
    "#functions to check performance \n",
    "def checker(firm_name):\n",
    "    \n",
    "    ind=df[(df.name==firm_name)].content_recommended[df[(df.name==firm_name)].index[0]]\n",
    "    ind=ind[1::2] #take every other item in array\n",
    "    print firm_name\n",
    "    print ds[(ds.name==firm_name)].desc[ds[(ds.name==firm_name)].index[0]]\n",
    "    print '===============Neighbors==============='\n",
    "    for i in ind:\n",
    "        print i\n",
    "        print ds[(ds.name==i)].desc[ds[(ds.name==i)].index[0]]\n",
    "        print '-----------------------------'"
   ]
  },
  {
   "cell_type": "code",
   "execution_count": 41,
   "metadata": {
    "collapsed": false
   },
   "outputs": [
    {
     "name": "stdout",
     "output_type": "stream",
     "text": [
      "Octagen\n",
      "Operator of biopharmaceutical company. The company develops drugs for hemophilia, other genetic disorders and variations of recombinant B domain to avoid inactivation by flying below the radar screen of the immune system.\n",
      "===============Neighbors===============\n",
      "Octagen\n",
      "Operator of biopharmaceutical company. The company develops drugs for hemophilia, other genetic disorders and variations of recombinant B domain to avoid inactivation by flying below the radar screen of the immune system.\n",
      "-----------------------------\n",
      "Flex Pharma\n",
      "Operator of a biopharmaceutical company. The company develops clinically proven products and treatments for muscle cramps and spasms.\n",
      "-----------------------------\n",
      "Alkermes\n",
      "Operator of a biopharmaceutical company. The company develops products based on drug-delivery technologies to enhance therapeutic outcomes in major diseases.\n",
      "-----------------------------\n",
      "Twinstrand Therapeutics\n",
      "Operator of biopharmaceutical company. The company engages in the discovery, development and commercialization of biological drugs for the treatment of life threatening diseases.\n",
      "-----------------------------\n",
      "Sterix\n",
      "Operator of a biopharmaceutical company. The company specializes in the research and development of a new generation of steroid-based therapeutic products for use in oncology and metabolism or endocrine-related diseases, including cancer treatments, women\\'s health, diabetes and hormone-associated diseases.\n",
      "-----------------------------\n",
      "Konova\n",
      "Developer of anti-obesity drugs. The company develops drugs that are used for the treatment of obesity.\n",
      "-----------------------------\n",
      "Ansata Therapeutics\n",
      "Operator of a biopharmaceutical company focused on dermatologic treatments. The company develops peptide-based topical antibiotics for skin issues.\n",
      "-----------------------------\n",
      "Vantia\n",
      "Developer of small molecule drugs. The company develops drugs for the treatment of nocturia, dysmenorrhoea, respiratory disorders, inflammation, oncological and fibrotic diseases.\n",
      "-----------------------------\n",
      "Neuromed Pharmaceuticals\n",
      "Provider of small molecule drugs for the Biopharmaceutical industry. The company develops drugs targeting neuronal calcium channels to treat neurological disorders with the initial emphasis on chronic pain anxiety and stroke.\n",
      "-----------------------------\n",
      "Apalexo Biotechnologie\n",
      "Operator of a biopharmaceutical company focused on cancer treatment. The company is focused on development of a treatment to eradicate residual tumor cells following conventional cancer therapies.\n",
      "-----------------------------\n"
     ]
    }
   ],
   "source": [
    "#check Octagen\n",
    "checker('Octagen')"
   ]
  },
  {
   "cell_type": "code",
   "execution_count": 42,
   "metadata": {
    "collapsed": false
   },
   "outputs": [
    {
     "name": "stdout",
     "output_type": "stream",
     "text": [
      "Yantra\n",
      "Provider of distributed order management and supply chain fulfillment solutions for retail, distribution, logistics, and manufacturing industries. The company focuses on distributed order management, supply collaboration, inventory synchronization, reverse logistics, logistics management, networked warehouse management, and delivery and service scheduling. It also provides consulting and support services. It offers Yantra 7x products, a comprehensive group of software applications, which enable organizations to manage their fulfillment processes across customers, operations, suppliers, and partners.\n",
      "===============Neighbors===============\n",
      "Yantra\n",
      "Provider of distributed order management and supply chain fulfillment solutions for retail, distribution, logistics, and manufacturing industries. The company focuses on distributed order management, supply collaboration, inventory synchronization, reverse logistics, logistics management, networked warehouse management, and delivery and service scheduling. It also provides consulting and support services. It offers Yantra 7x products, a comprehensive group of software applications, which enable organizations to manage their fulfillment processes across customers, operations, suppliers, and partners.\n",
      "-----------------------------\n",
      "Valdero\n",
      "Provider of supply chain performance management and analytical collaboration software applications. The company provides inventory visibility and order fulfillment software applications.\n",
      "-----------------------------\n",
      "Sandlot\n",
      "Provider of subscription management software and services for publishing industry. The company\\'s product EclipseNet, manages order fulfillment processes within the virtual enterprise. The company provides a in-house and hosted services for management of recurring order transactions, integrated order process management, order fulfillment and customer service.\n",
      "-----------------------------\n",
      "Factory Logic\n",
      "Supplier of software for lean scheduling and supply synchronization. The company provides manufacturing and supply chain management solutions to the automotive, electronics, industrial equipment and aerospace industries.\n",
      "-----------------------------\n",
      "Intelligent Markets\n",
      "Provider of comprehensive order management software and services to broker dealers. The company offers ALTA, an order management system, which offers services in multiple asset classes, including convertible bonds, corporate bonds, OTC equities and derivatives.\n",
      "-----------------------------\n",
      "Mercari Technologies\n",
      "Provider of supply-chain management and e-fulfillment software company. The company\\'s merchandising solutions bringing retailers and manufacturers closer to their customers by integrating consumer behavior data with merchandise planning, supply chain optimization, category management and financial analysis.\n",
      "-----------------------------\n",
      "Logistics.com\n",
      "Provider of logistics planning and execution software to shippers and carriers. The company links players in the logistics and adjacent industries on a standard communication and application integration platform, Logistics Event Management Architecture. It offers OptiManage, which is a transportation management software, as well as OptiBid, which is a procurement software for shippers.\n",
      "-----------------------------\n",
      "LCL Logistix\n",
      "Provider of logistics and supply-chain solutions. The company provides integrated, end-to-end shipping logistics services to customers around the globe. They utilize business-owned assets like Container Freight Stations, trucks, other equipment and warehouses to accomplish this.\n",
      "-----------------------------\n",
      "Speedchain Networks\n",
      "Provider of supply chain event management and global e-logistics services. The company through its web-native framework increases cross-enterprise collaboration and information sharing.\n",
      "-----------------------------\n",
      "Accretive Commerce\n",
      "Provider of outsourced operations solutions to the companies engaged in one-to-one direct commerce. The company offers ecommerce, customer care, life-cycle of marketing, customer acquisition, returns management and fulfillment and logistics solutions. It also provides professional services, technology integration, custom business process solutions and lean six sigma strategies as well as marketing, Web design and product imaging, direct response/infomercials and direct mail support and order management.\n",
      "-----------------------------\n"
     ]
    }
   ],
   "source": [
    "#check Yantra\n",
    "checker('Yantra')"
   ]
  },
  {
   "cell_type": "code",
   "execution_count": 43,
   "metadata": {
    "collapsed": false
   },
   "outputs": [
    {
     "name": "stdout",
     "output_type": "stream",
     "text": [
      "Discovery Engine\n",
      "Developer of an internet search engine. The company offers an interaction model of search engine that also can also compile information from multiple sources.\n",
      "===============Neighbors===============\n",
      "Discovery Engine\n",
      "Developer of an internet search engine. The company offers an interaction model of search engine that also can also compile information from multiple sources.\n",
      "-----------------------------\n",
      "Peryskop.pl\n",
      "Provider of an online search engine. The company provides semantic search engine for products and product\\'s reviews in Polish and English.\n",
      "-----------------------------\n",
      "JustSpotted\n",
      "Provider of real time search engine. The company\\'s search engine aggregates and organizes content being shared on the internet. It offers search options on entertainment, technology, sports, world and business, science, gaming, politics and lifestyle topics.\n",
      "-----------------------------\n",
      "Zoomf\n",
      "Provider of a residential property sales and letting search engine. The company also offers consumers local market intelligence and information on local amenities in their area of choice, via map and listings.\n",
      "-----------------------------\n",
      "Goshme Solucoes Para a Internet\n",
      "Developer and provider of search engine. The company assists users by providing a list of all search engines and databases appropriate to the query, ranked by relevance, divided by categories and sub-categories, and with a brief description about each search engine.\n",
      "-----------------------------\n",
      "WiseNut\n",
      "Provider of search engine and Web-browsing services. The company is the developer of a crawler-based search engine and database of indexed Web pages.\n",
      "-----------------------------\n",
      "DealAngel\n",
      "Provider of a travel deal search engine. The company enables users to find travel and hotel deals.\n",
      "-----------------------------\n",
      "Hurra Communications\n",
      "Provider of integrated online marketing services. The company provides products and services on the subjects of search engine and dialogue marketing. The services provided by the company include search engine advertising, search engine optimization, conversation optimization, web analytics, performance display advertising and Facebook advertising.\n",
      "-----------------------------\n",
      "CitySquares Online\n",
      "Provider of a hyper-local search engine. The company helps the local, neighborhood small businesses get found online.\n",
      "-----------------------------\n",
      "Trulia\n",
      "Provider of a real estate search engine. The company offers information on search sales statistics, real estate price trends and real estate market activities. It allows users to find homes for sale, as well as provides advertising products for real estate professionals.\n",
      "-----------------------------\n"
     ]
    }
   ],
   "source": [
    "#check Discovery Engine\n",
    "checker('Discovery Engine')"
   ]
  },
  {
   "cell_type": "markdown",
   "metadata": {},
   "source": [
    "# Appending the labels to description\n",
    "\n",
    "For this refinement, we will add the labels to the description. This will give us a bit more information in our descriptions, hopefully leading to better similar company results. "
   ]
  },
  {
   "cell_type": "code",
   "execution_count": 47,
   "metadata": {
    "collapsed": true
   },
   "outputs": [],
   "source": [
    "#functions to create recommender\n",
    "def train(data_source):\n",
    "    start = time.time()\n",
    "    ds = pd.read_csv(data_source)\n",
    "    ds['desc']=ds.apply(lambda x: x['desc']+' '+x['keywords'], axis=1)\n",
    "    ds = ds.drop('keywords', 1)\n",
    "    print \"Training data ingested in %s seconds.\" % (time.time() - start)\n",
    "    start = time.time()\n",
    "    frame=_train(ds)\n",
    "    print \"Engine trained in %s seconds.\" % (time.time() - start)\n",
    "    return frame\n",
    "\n",
    "def _train(ds):\n",
    "    \"\"\"\n",
    "    Train the engine.\n",
    "    Create a TF-IDF matrix of unigrams, bigrams, and trigrams\n",
    "    for each firm. The 'stop_words' param tells the TF-IDF\n",
    "    module to ignore common english words like 'the', etc.\n",
    "    Then we compute similarity between all products using\n",
    "    SciKit Leanr's linear_kernel (which in this case is\n",
    "    equivalent to cosine similarity).\n",
    "    Iterate through each item's similar items and store the\n",
    "    10 most-similar. \n",
    "    Similarities and their scores are stored in \n",
    "    :param ds: A pandas dataset containing two fields: description & id\n",
    "    \"\"\"\n",
    "\n",
    "    columns = ['name','content_recommended']\n",
    "    frame = pd.DataFrame(columns=columns)\n",
    "    \n",
    "    tf = TfidfVectorizer(analyzer='word',\n",
    "                         ngram_range=(1, 3),\n",
    "                         min_df=0,\n",
    "                         stop_words='english')\n",
    "    tfidf_matrix = tf.fit_transform(ds['desc'])\n",
    "\n",
    "    cosine_similarities = linear_kernel(tfidf_matrix, tfidf_matrix)\n",
    "\n",
    "    for idx, row in ds.iterrows():\n",
    "        similar_indices = cosine_similarities[idx].argsort()[:-11:-1]\n",
    "        similar_items = [(cosine_similarities[idx][i], ds['name'][i])\n",
    "                         for i in similar_indices]\n",
    "\n",
    "        # First item is the item itself, set 0 as 1 to remove it.\n",
    "        # This 'sum' is turns a list of tuples into a single tuple:\n",
    "        # [(1,2), (3,4)] -> (1,2,3,4)\n",
    "        flattened = sum(similar_items[0:], ())\n",
    "        #add to frame\n",
    "        arr=[row['name'], flattened]\n",
    "        frame.loc[len(frame)]=arr\n",
    "    return frame"
   ]
  },
  {
   "cell_type": "code",
   "execution_count": 48,
   "metadata": {
    "collapsed": false
   },
   "outputs": [
    {
     "name": "stdout",
     "output_type": "stream",
     "text": [
      "Training data ingested in 0.261860132217 seconds.\n",
      "Engine trained in 15.1754980087 seconds.\n"
     ]
    }
   ],
   "source": [
    "#train, and create dataframe with 10 recommeneded firms\n",
    "df=train('companies.csv')"
   ]
  },
  {
   "cell_type": "code",
   "execution_count": 49,
   "metadata": {
    "collapsed": true
   },
   "outputs": [],
   "source": [
    "#load original dataframe for checking performance\n",
    "ds = pd.read_csv(\"companies.csv\", usecols=[\"name\", \"desc\"])"
   ]
  },
  {
   "cell_type": "code",
   "execution_count": 50,
   "metadata": {
    "collapsed": false
   },
   "outputs": [
    {
     "name": "stdout",
     "output_type": "stream",
     "text": [
      "Octagen\n",
      "Operator of biopharmaceutical company. The company develops drugs for hemophilia, other genetic disorders and variations of recombinant B domain to avoid inactivation by flying below the radar screen of the immune system.\n",
      "===============Neighbors===============\n",
      "Octagen\n",
      "Operator of biopharmaceutical company. The company develops drugs for hemophilia, other genetic disorders and variations of recombinant B domain to avoid inactivation by flying below the radar screen of the immune system.\n",
      "-----------------------------\n",
      "Flex Pharma\n",
      "Operator of a biopharmaceutical company. The company develops clinically proven products and treatments for muscle cramps and spasms.\n",
      "-----------------------------\n",
      "Twinstrand Therapeutics\n",
      "Operator of biopharmaceutical company. The company engages in the discovery, development and commercialization of biological drugs for the treatment of life threatening diseases.\n",
      "-----------------------------\n",
      "Alkermes\n",
      "Operator of a biopharmaceutical company. The company develops products based on drug-delivery technologies to enhance therapeutic outcomes in major diseases.\n",
      "-----------------------------\n",
      "DNA Direct\n",
      "Provider of genetic guidance and decision support solutions for genetics that enable individuals and healthcare providers use genetic information to guide healthcare decisions. The company\\'s solution include pre-test questionnaire, genetics call centers, personalized reports, clinical policy and compliance, and physician education and program customization services, as well as prenatal primer, a web-based interactive guide to prenatal testing options. It also offers tests and services for consumers, including screening tests, testing for genetic disorders, testing for drug response, genetic consultation, DNA storage, and paternity and family tests.\n",
      "-----------------------------\n",
      "Sanofi Genzyme\n",
      "Manufacturer of human health-care products. The company focuses on rare genetic disease disorders, renal diseases, orthopedics, cancers, transplant and immune diseases, and diagnostic and predictive testing areas. It operates as a biotechnology company worldwide.\n",
      "-----------------------------\n",
      "Apalexo Biotechnologie\n",
      "Operator of a biopharmaceutical company focused on cancer treatment. The company is focused on development of a treatment to eradicate residual tumor cells following conventional cancer therapies.\n",
      "-----------------------------\n",
      "Virxsys\n",
      "Provider of a biotechnology company. The company provides technology for the development of gene and vaccine therapies for the treatment of HIV, cancer and genetic diseases.\n",
      "-----------------------------\n",
      "Sterix\n",
      "Operator of a biopharmaceutical company. The company specializes in the research and development of a new generation of steroid-based therapeutic products for use in oncology and metabolism or endocrine-related diseases, including cancer treatments, women\\'s health, diabetes and hormone-associated diseases.\n",
      "-----------------------------\n",
      "Neuromed Pharmaceuticals\n",
      "Provider of small molecule drugs for the Biopharmaceutical industry. The company develops drugs targeting neuronal calcium channels to treat neurological disorders with the initial emphasis on chronic pain anxiety and stroke.\n",
      "-----------------------------\n"
     ]
    }
   ],
   "source": [
    "#check Octagen\n",
    "checker('Octagen')"
   ]
  },
  {
   "cell_type": "code",
   "execution_count": 51,
   "metadata": {
    "collapsed": false
   },
   "outputs": [
    {
     "name": "stdout",
     "output_type": "stream",
     "text": [
      "Yantra\n",
      "Provider of distributed order management and supply chain fulfillment solutions for retail, distribution, logistics, and manufacturing industries. The company focuses on distributed order management, supply collaboration, inventory synchronization, reverse logistics, logistics management, networked warehouse management, and delivery and service scheduling. It also provides consulting and support services. It offers Yantra 7x products, a comprehensive group of software applications, which enable organizations to manage their fulfillment processes across customers, operations, suppliers, and partners.\n",
      "===============Neighbors===============\n",
      "Yantra\n",
      "Provider of distributed order management and supply chain fulfillment solutions for retail, distribution, logistics, and manufacturing industries. The company focuses on distributed order management, supply collaboration, inventory synchronization, reverse logistics, logistics management, networked warehouse management, and delivery and service scheduling. It also provides consulting and support services. It offers Yantra 7x products, a comprehensive group of software applications, which enable organizations to manage their fulfillment processes across customers, operations, suppliers, and partners.\n",
      "-----------------------------\n",
      "Valdero\n",
      "Provider of supply chain performance management and analytical collaboration software applications. The company provides inventory visibility and order fulfillment software applications.\n",
      "-----------------------------\n",
      "Global Beverage Group\n",
      "Developer of delivery management technologies. The company offers a supply chain management software for the food and beverage industries.\n",
      "-----------------------------\n",
      "Lettuce\n",
      "Developer of order management system for small and medium sized businesses. The company develops management system with a mobile sales application enabling user\\'s business to capture, track and process orders anywhere in real time.\n",
      "-----------------------------\n",
      "DownstreamEnergy.com\n",
      "Provider of solutions for supply chain management. The company provides software programs that manages flow of information between suppliers and marketers. The company mainly focuses on customer management.\n",
      "-----------------------------\n",
      "Vergo\n",
      "Provider of software based services for network and risk management. The company provides network management service to manage the supply chain and its companies balanced risks management for strategic management. It also provides software for working capital management.\n",
      "-----------------------------\n",
      "Mercari Technologies\n",
      "Provider of supply-chain management and e-fulfillment software company. The company\\'s merchandising solutions bringing retailers and manufacturers closer to their customers by integrating consumer behavior data with merchandise planning, supply chain optimization, category management and financial analysis.\n",
      "-----------------------------\n",
      "Sandlot\n",
      "Provider of subscription management software and services for publishing industry. The company\\'s product EclipseNet, manages order fulfillment processes within the virtual enterprise. The company provides a in-house and hosted services for management of recurring order transactions, integrated order process management, order fulfillment and customer service.\n",
      "-----------------------------\n",
      "Speedchain Networks\n",
      "Provider of supply chain event management and global e-logistics services. The company through its web-native framework increases cross-enterprise collaboration and information sharing.\n",
      "-----------------------------\n",
      "LCL Logistix\n",
      "Provider of logistics and supply-chain solutions. The company provides integrated, end-to-end shipping logistics services to customers around the globe. They utilize business-owned assets like Container Freight Stations, trucks, other equipment and warehouses to accomplish this.\n",
      "-----------------------------\n"
     ]
    }
   ],
   "source": [
    "#check Yantra\n",
    "checker('Yantra')"
   ]
  },
  {
   "cell_type": "code",
   "execution_count": 52,
   "metadata": {
    "collapsed": false
   },
   "outputs": [
    {
     "name": "stdout",
     "output_type": "stream",
     "text": [
      "Discovery Engine\n",
      "Developer of an internet search engine. The company offers an interaction model of search engine that also can also compile information from multiple sources.\n",
      "===============Neighbors===============\n",
      "Discovery Engine\n",
      "Developer of an internet search engine. The company offers an interaction model of search engine that also can also compile information from multiple sources.\n",
      "-----------------------------\n",
      "WiseNut\n",
      "Provider of search engine and Web-browsing services. The company is the developer of a crawler-based search engine and database of indexed Web pages.\n",
      "-----------------------------\n",
      "Peryskop.pl\n",
      "Provider of an online search engine. The company provides semantic search engine for products and product\\'s reviews in Polish and English.\n",
      "-----------------------------\n",
      "JustSpotted\n",
      "Provider of real time search engine. The company\\'s search engine aggregates and organizes content being shared on the internet. It offers search options on entertainment, technology, sports, world and business, science, gaming, politics and lifestyle topics.\n",
      "-----------------------------\n",
      "Goshme Solucoes Para a Internet\n",
      "Developer and provider of search engine. The company assists users by providing a list of all search engines and databases appropriate to the query, ranked by relevance, divided by categories and sub-categories, and with a brief description about each search engine.\n",
      "-----------------------------\n",
      "Delver\n",
      "Developer of a social search engine to help users to find content, media and people within their network.\n",
      "-----------------------------\n",
      "Guruji.com\n",
      "Operator of a crawler-based search engine that identifies Web content for Indian launches and language search. The company\\'s search engine is available for PCs and mobile devices and covers a variety of topics, including news, entertainment, travel, astrology, literature, business, and education.\n",
      "-----------------------------\n",
      "ClickMotive\n",
      "Provider of an online platform for website design, video making, dynamic search and mobile websites. The company creates interactive marketing software for the automotive industry. The company\\'s product, Fusion, includes dealer websites, auto group websites, regional websites, OEM websites, mobile websites, search engine marketing (SEM) programs, search engine optimization (SEO) expertise, video marketing, lead delivery, admin tools, content management, reporting analytics, customization and support.\n",
      "-----------------------------\n",
      "411\n",
      "Provider of an online search engine in Canada. The company provides search platform for user to locate whatever contact he whats to get in Canada.\n",
      "-----------------------------\n",
      "CitySquares Online\n",
      "Provider of a hyper-local search engine. The company helps the local, neighborhood small businesses get found online.\n",
      "-----------------------------\n"
     ]
    }
   ],
   "source": [
    "#check Discovery Engine\n",
    "checker('Discovery Engine')"
   ]
  },
  {
   "cell_type": "code",
   "execution_count": null,
   "metadata": {
    "collapsed": true
   },
   "outputs": [],
   "source": []
  }
 ],
 "metadata": {
  "kernelspec": {
   "display_name": "Python [dato-env]",
   "language": "python",
   "name": "Python [dato-env]"
  },
  "language_info": {
   "codemirror_mode": {
    "name": "ipython",
    "version": 2
   },
   "file_extension": ".py",
   "mimetype": "text/x-python",
   "name": "python",
   "nbconvert_exporter": "python",
   "pygments_lexer": "ipython2",
   "version": "2.7.12"
  }
 },
 "nbformat": 4,
 "nbformat_minor": 0
}
