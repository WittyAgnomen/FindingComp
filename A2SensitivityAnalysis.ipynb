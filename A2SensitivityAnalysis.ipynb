{
 "cells": [
  {
   "cell_type": "markdown",
   "metadata": {},
   "source": [
    "#  Approach 2: Sensitivity Analysis and Robustness Check\n",
    "\n",
    "In this notebook, I will change a few parameters in approach 2 and see how negatively it affects approach 2's results. Those changes are:\n",
    "- Bag of Words instead of TF-IDF\n",
    "- A decreased data set: 3000 instead of 5000\n",
    "- Taking a subset of description to extract features (Basically, testing effect of smaller description space)"
   ]
  },
  {
   "cell_type": "code",
   "execution_count": 4,
   "metadata": {
    "collapsed": true
   },
   "outputs": [],
   "source": [
    "#load modules\n",
    "import pandas as pd\n",
    "import time\n",
    "from sklearn.feature_extraction.text import TfidfVectorizer\n",
    "from sklearn.metrics.pairwise import linear_kernel\n",
    "from sklearn.feature_extraction.text import CountVectorizer"
   ]
  },
  {
   "cell_type": "markdown",
   "metadata": {},
   "source": [
    "# Bag of Words instead of TF-IDF"
   ]
  },
  {
   "cell_type": "code",
   "execution_count": 5,
   "metadata": {
    "collapsed": false
   },
   "outputs": [],
   "source": [
    "#functions to create recommender\n",
    "def train(data_source):\n",
    "    start = time.time()\n",
    "    ds = pd.read_csv(data_source, usecols=[\"name\", \"desc\"])\n",
    "    print \"Training data ingested in %s seconds.\" % (time.time() - start)\n",
    "    start = time.time()\n",
    "    frame=_train(ds)\n",
    "    print \"Engine trained in %s seconds.\" % (time.time() - start)\n",
    "    return frame\n",
    "\n",
    "def _train(ds):\n",
    "    \"\"\"\n",
    "    using BOW instead of TFIDF\n",
    "    \"\"\"\n",
    "\n",
    "    columns = ['name','content_recommended']\n",
    "    frame = pd.DataFrame(columns=columns)\n",
    "    \n",
    "    bow = CountVectorizer(analyzer='word',\n",
    "                         ngram_range=(1, 3),\n",
    "                         min_df=0,\n",
    "                         stop_words='english')\n",
    "    bow_matrix = bow.fit_transform(ds['desc'])\n",
    "\n",
    "    cosine_similarities = linear_kernel(bow_matrix, bow_matrix)\n",
    "\n",
    "    for idx, row in ds.iterrows():\n",
    "        similar_indices = cosine_similarities[idx].argsort()[:-11:-1]\n",
    "        similar_items = [(cosine_similarities[idx][i], ds['name'][i])\n",
    "                         for i in similar_indices]\n",
    "\n",
    "        # First item is the item itself, set 0 as 1 to remove it.\n",
    "        # This 'sum' is turns a list of tuples into a single tuple:\n",
    "        # [(1,2), (3,4)] -> (1,2,3,4)\n",
    "        flattened = sum(similar_items[0:], ())\n",
    "        #add to frame\n",
    "        arr=[row['name'], flattened]\n",
    "        frame.loc[len(frame)]=arr\n",
    "    return frame"
   ]
  },
  {
   "cell_type": "code",
   "execution_count": 6,
   "metadata": {
    "collapsed": false
   },
   "outputs": [
    {
     "name": "stdout",
     "output_type": "stream",
     "text": [
      "Training data ingested in 0.0357511043549 seconds.\n",
      "Engine trained in 13.7227859497 seconds.\n"
     ]
    }
   ],
   "source": [
    "#train, and create dataframe with 10 recommeneded firms\n",
    "df=train('companies.csv')"
   ]
  },
  {
   "cell_type": "code",
   "execution_count": 7,
   "metadata": {
    "collapsed": false
   },
   "outputs": [],
   "source": [
    "#load original dataframe for checking performance\n",
    "ds = pd.read_csv(\"companies.csv\", usecols=[\"name\", \"desc\"])"
   ]
  },
  {
   "cell_type": "code",
   "execution_count": 8,
   "metadata": {
    "collapsed": false
   },
   "outputs": [],
   "source": [
    "#functions to check performance \n",
    "def checker(firm_name):\n",
    "    \n",
    "    ind=df[(df.name==firm_name)].content_recommended[df[(df.name==firm_name)].index[0]]\n",
    "    ind=ind[1::2] #take every other item in array\n",
    "    print firm_name\n",
    "    print ds[(ds.name==firm_name)].desc[ds[(ds.name==firm_name)].index[0]]\n",
    "    print '===============Neighbors==============='\n",
    "    for i in ind:\n",
    "        print i\n",
    "        print ds[(ds.name==i)].desc[ds[(ds.name==i)].index[0]]\n",
    "        print '-----------------------------'"
   ]
  },
  {
   "cell_type": "code",
   "execution_count": 9,
   "metadata": {
    "collapsed": false
   },
   "outputs": [
    {
     "name": "stdout",
     "output_type": "stream",
     "text": [
      "Octagen\n",
      "Operator of biopharmaceutical company. The company develops drugs for hemophilia, other genetic disorders and variations of recombinant B domain to avoid inactivation by flying below the radar screen of the immune system.\n",
      "===============Neighbors===============\n",
      "Octagen\n",
      "Operator of biopharmaceutical company. The company develops drugs for hemophilia, other genetic disorders and variations of recombinant B domain to avoid inactivation by flying below the radar screen of the immune system.\n",
      "-----------------------------\n",
      "Cephalon\n",
      "Cephalon, Inc. is an international biopharmaceutical company dedicated to the discovery, development and commercialization of innovative products in four core therapeutic areas: central nervous system, pain, oncology and inflammatory disease. In addition to conducting an active research and development program, the Company markets seven proprietary products in the United States and numerous products in various countries throughout Europe and the world. The Company\\'s most significant products are wakefulness products, PROVIGIL(r) (modafinil) Tablets and NUVIGIL(r) (armodafinil) Tablets. The Company\\'s Central Nervous System disorders portfolio includes three FDA-approved and marketed products: NUVIGIL, for improving wakefulness in patients with excessive sleepiness associated with narcolepsy, OSA/HS and SWSD; PROVIGIL, for the same labeled indications as NUVIGIL; and GABITRIL, for use as adjunctive therapy in the treatment of partial seizures in epileptic patients. PROVIGIL improves wakefulness in patients with excessive daytime sleepiness associated with narcolepsy, and the Company has launched the product in the United States. GABITRIL is a selective gamma-aminobutyric acid, reuptake inhibitor approved for use as adjunctive therapy in the treatment of partial seizures in epileptic patients. The Company\\'s pain therapeutics portfolio currently includes four marketed products in the United States. It markets AMRIX, a once-a-day, extended-release version of cyclobenzaprine hydrochloride, the active ingredient in the brand FLEXERIL(r). AMRIX is indicated for relief of muscle spasm associated with acute, painful musculoskeletal conditions. The Company also market three products, FENTORA, ACTIQ, and generic OTFC, which focus on treating breakthrough cancer pain in opioid-tolerant patients. FENTORA is indicated for the management of breakthrough pain in patients with cancer who are already receiving and are tolerant to opioid therapy for their underlying persistent cancer pain. ACTIQ is approved in the United States for the management of breakthrough cancer pain in opioid-tolerant patients. The Company\\'s U.S. oncology portfolio includes two marketed products to treat patients with hematologic cancers: TREANDA, a bi-functional hybrid cytotoxic; and TRISENOX(r), an intravenous arsenic-based targeted therapy currently marketed in the U.S., as well as in Europe. TREANDA is a novel hybrid cytotoxic alkylating agent that differs from conventional compounds in its apparent multi-functional mechanism of action. In addition to killing cells by damaging their DNA and triggering apoptosis-which is typical of alkylating agents-researchers demonstrated that TREANDA also causes the disruption of cell division. Bendamustine hydrochloride, the active ingredient in TREANDA, is currently marketed in Germany by a third party for the treatment of NHL, CLL, multiple myeloma, metastatic breast cancer and other solid tumors. TRISENOX was approved for marketing in the United States and Europe in 2000 and 2002, respectively, for the treatment of patients with relapsed or refractory acute promyelocytic leukemia, a life threatening hematologic cancer. The Company markets and sells directly or through partnerships 30 different branded products in over 50 countries in Europe, the Middle East and Africa and have a strong presence in the five key European pharmaceutical markets: France, Germany, Italy, Spain and the United Kingdom, and affiliates in Benelux and Poland. The Company faces intense competition and rapid technological change in the pharmaceutical marketplace. The manufacture and sale of therapeutics are subject to regulation by U.S. and foreign governmental authorities. In particular, pharmaceutical products are subject to rigorous preclinical and clinical trials and other approval requirements.\n",
      "-----------------------------\n",
      "Intuit\n",
      "Intuit Inc was incorporated in California in March 1984. The Company was reincorporated in Delaware and completed its initial public offering in March 1993. The Company creates business and financial management solutions that help simplify the business of life for small businesses, consumers, and accounting professionals. The Company\\'s products and services include; QuickBooks, TurboTax, Quicken and Mint, and help customers solve business and financial management problems including running a small business, paying bills, and filing income taxes. The Company\\'s tax preparation offerings for professional accountants includes; ProSeries and Lacerte. The Company operates its businesses into three segments; Small Business, Consumer Tax, and Professional Tax. The Small Business segment includes offerings targeting the small business market. It includes QuickBooks financial and business management online services and desktop software for small businesses and the accounting professionals serving small businesses; Small business payroll and employee management products and services; Payment processing services for small businesses, including merchant services such as credit and debit card processing; web-based transaction processing services for online merchants; secure online payments for small businesses and their customers through the Intuit Commerce Network; GoPayment mobile payment processing services; and QuickBooks Point of Sale solutions. The Consumer Tax segment targets consumers and includes TurboTax income tax preparation products and services and electronic tax filing services. The Professional Tax segment targets professional accountants and includes Lacerte, ProSeries, and Intuit Tax Online professional tax products and services. The Company faces competition in all businesses, both domestically and internationally. The Company\\'s competitors includes; Wells Fargo, JP Morgan Chase, Bank of America, First Data Corporation, Elavon, Global Payments, FIS-Certegy, PayPal and Square. The Company is subject to federal and state laws and government regulations concerning employee safety and health and environmental matters.\n",
      "-----------------------------\n",
      "Flex Pharma\n",
      "Operator of a biopharmaceutical company. The company develops clinically proven products and treatments for muscle cramps and spasms.\n",
      "-----------------------------\n",
      "Alkermes\n",
      "Operator of a biopharmaceutical company. The company develops products based on drug-delivery technologies to enhance therapeutic outcomes in major diseases.\n",
      "-----------------------------\n",
      "Angiotech Pharmaceuticals\n",
      "Angiotech Pharmaceuticals Inc is a pharmaceutical and medical device company that develops, manufactures and markets medical device products and technologies, primarily within the areas of interventional oncology, wound closure and ophthalmology. The Company currently operates in two segments: Medical Device Technologies and Licensed Technologies. Its Medical Device Technologies segment generates the majority of its revenue, develops, manufactures and markets a wide range of single use medical device products, as well as precision manufactured medical device components. These products and components are sold directly to hospitals, clinics, physicians and other end users, as well as to medical products distributors or other third-party medical device manufacturers. Its Licensed Technologies segment includes certain of its legacy technologies for which research and development activities have been concluded. This segment generates additional revenue in the form of royalties received from partners who have licensed and utilize these technologies in their medical device product lines. The Medical Device Technologies segment manufactures and markets single-use specialty medical device products and medical device components. These products are sold directly to end users or other third-party medical device manufacturers. This segment contains significant manufacturing capabilities as well as specialized direct and indirect sales and distribution capabilities. Many of its medical products are made using proprietary manufacturing processes and may be protected by its patent portfolio or proprietary know-how. Its significant product groups within this business segment include Interventional Oncology, Wound Closure, Ophthalmology and Medical Device Components. The Licensed Technologies segment includes certain of its legacy technologies for which research and development activities have been concluded. This segment generates additional revenue in the form of royalties received from partners who have licensed and utilize these technologies in their medical device product lines. Its principal revenues in this segment to date have been royalties derived from sales by its partner BSC of TAXUS paclitaxel-eluting coronary stents for the treatment of coronary artery disease. The Company markets and sells various medical device products through a group of specialized sales organizations that consist of direct sales and marketing personnel, which in some cases are supplemented by independent sales representatives and independent medical products distributors, depending on the product category, customer base or geographic location. The research and development, manufacturing, labeling, advertising, sale, marketing and third-party reimbursement of its medical device products and those of the Company\\'s suppliers, customers and partners are subject to extensive regulation by the FDA, the U.S. Department of Health and Human Services Centers for Medicare and Medicaid Services, and comparable regulatory agencies in state and local jurisdictions and in foreign countries. The Company faces competition from companies marketing, selling and developing medical device or other medical technologies that target the same diseases, clinical indications, customers or markets that its technologies target, as well as competition from other manufacturers of medical device components who sell to similar third party medical device manufacturers, including to some of its current customers.\n",
      "-----------------------------\n",
      "Twinstrand Therapeutics\n",
      "Operator of biopharmaceutical company. The company engages in the discovery, development and commercialization of biological drugs for the treatment of life threatening diseases.\n",
      "-----------------------------\n",
      "Hewlett-Packard\n",
      "HP Inc, formerly Hewlett-Packard Company was incorporated in 1947 under the laws of the State of California as the successor to a partnership founded in 1939 by William R. Hewlett and David Packard. Effective in May 1998, it changed its state of incorporation from California to Delaware. The Company is a provider of products, technologies, software, solutions and services to individual consumers, small- and medium-sized businesses (SMBs) and large enterprises, including customers in the government, health and education sectors. The Company\\'s offerings span multi-vendor customer services, including infrastructure technology and business process outsourcing, technology support and maintenance, application development and support services & consulting and integration services; enterprise information technology infrastructure, including enterprise storage and server technology, networking products and resources, and software that optimizes business technology investments, personal computing and other access devices and imaging and printing-related products and services. It has seven business segments for financial reporting purposes: Services, Enterprise Storage and Servers, HP Software, the Personal Systems Group (PSG), the Imaging and Printing Group (IPG), HP Financial Services (HPFS), and Corporate Investments. The HP Enterprise Business provides servers, storage, software and information technology (IT) services that enable enterprise and midmarket business customers to manage their current IT environments and transform IT into a business enabler. HP Software is a provider of enterprise and service-provider software and services. PSG is a provider of personal computers (PCs) in the world such as Commercial PCs, consumer PCs, workstations and handheld computing. IPG is the imaging and printing systems provider in the world for consumer and commercial printer hardware, printing supplies, printing media and scanning devices such as Laserjet, managed enterprise solutions, graphics solutions include large format printing, large format supplies, webpress supplies, Indigo printing, inkjet high speed production solutions. HPFS supports and enhances HP\\'s product and service solutions, providing a broad range of value-added financial life-cycle management services. The group offers leasing, financing, utility programs and asset recovery services, as well as financial asset management services for large enterprise customers. Corporate Investments includes Hewlett-Packard Laboratories, also known as HP Labs, network infrastructure products, mobile devices associated with the Palm acquisition, and certain business incubation projects. Revenue in this segment is attributable to the sale of certain network infrastructure products, including Ethernet switch products that enhance computing and enterprise solutions under the ProCurve, 3Com and TippingPoint brands.The Company depends on third party suppliers. The distribution is organized by direct and channel. The Company\\'s operations are subject to regulation under various federal, state, local and foreign laws concerning the environment, including laws addressing the discharge of pollutants into the air and water, the management and disposal of hazardous substances and wastes, and the cleanup of contaminated sites. HP recognizes revenue sales arrangement exists, delivery have occurred or services are rendered, the sales price or fee is fixed or determinable and collectability is reasonably assured. The company also recognizes hardware revenue on sales to channel partners, including resellers, distributors or value-added solution providers at the time of sale when the channel partners have economic substance apart from HP and HP has completed its obligations related to the sale.\n",
      "-----------------------------\n",
      "Cartificial\n",
      "Operator of an orthopedic medical devices company. The company develops artificial cartilage for prosthetic hips. The company\\'s product, Cartificial Hip helps in replacing prostheses with the potential of being inserted during day care surgery.\n",
      "-----------------------------\n",
      "Ballard Power Systems\n",
      "Ballard Power Systems Inc was incorporated in the State of Canada on November 12, 2008. It is a clean energy growth company. The company is engaged in proton exchange membrane (PEM) fuel cell development and commercialization. The Company\\'s main business is the design, development, manufacture, sale and service of fuel cell products for a variety of applications, focusing on motive power (material handling and buses) and stationary power (back-up power, supplemental power, and distributed generation). A fuel cell is an environmentally clean electrochemical device that combines hydrogen fuel with oxygen (from the air) to produce electricity. Ballard fuel cell products feature high fuel efficiency, low operating temperature, low noise and vibration, compact size, quick response to changes in electrical demand, modular design and environmental cleanliness. The Company has four principal subsidiaries and affiliates: Ballard Fuel Cell Systems Inc., an Oregon corporation that develops methanol-fueled clean energy backup power systems; Dantherm Power A/S (\"Dantherm Power\"), a Denmark-based corporation jointly owned with Dantherm A/S that develops hydrogen-fueled clean energy backup power systems; BDF IP Holdings Ltd. (\"IP Holdings\"), a Canadian corporation that holds intellectual property assets; and Ballard Material Products Inc., a Delaware corporation that formerly developed and manufactured carbon fiber products for use in the automotive and fuel cell markets, and which now focuses on the development of fuel processing components and systems for use in fuel cell applications.\n",
      "-----------------------------\n"
     ]
    }
   ],
   "source": [
    "#check Octagen\n",
    "checker('Octagen')"
   ]
  },
  {
   "cell_type": "code",
   "execution_count": 10,
   "metadata": {
    "collapsed": false
   },
   "outputs": [
    {
     "name": "stdout",
     "output_type": "stream",
     "text": [
      "Yantra\n",
      "Provider of distributed order management and supply chain fulfillment solutions for retail, distribution, logistics, and manufacturing industries. The company focuses on distributed order management, supply collaboration, inventory synchronization, reverse logistics, logistics management, networked warehouse management, and delivery and service scheduling. It also provides consulting and support services. It offers Yantra 7x products, a comprehensive group of software applications, which enable organizations to manage their fulfillment processes across customers, operations, suppliers, and partners.\n",
      "===============Neighbors===============\n",
      "Yantra\n",
      "Provider of distributed order management and supply chain fulfillment solutions for retail, distribution, logistics, and manufacturing industries. The company focuses on distributed order management, supply collaboration, inventory synchronization, reverse logistics, logistics management, networked warehouse management, and delivery and service scheduling. It also provides consulting and support services. It offers Yantra 7x products, a comprehensive group of software applications, which enable organizations to manage their fulfillment processes across customers, operations, suppliers, and partners.\n",
      "-----------------------------\n",
      "Hewlett-Packard\n",
      "HP Inc, formerly Hewlett-Packard Company was incorporated in 1947 under the laws of the State of California as the successor to a partnership founded in 1939 by William R. Hewlett and David Packard. Effective in May 1998, it changed its state of incorporation from California to Delaware. The Company is a provider of products, technologies, software, solutions and services to individual consumers, small- and medium-sized businesses (SMBs) and large enterprises, including customers in the government, health and education sectors. The Company\\'s offerings span multi-vendor customer services, including infrastructure technology and business process outsourcing, technology support and maintenance, application development and support services & consulting and integration services; enterprise information technology infrastructure, including enterprise storage and server technology, networking products and resources, and software that optimizes business technology investments, personal computing and other access devices and imaging and printing-related products and services. It has seven business segments for financial reporting purposes: Services, Enterprise Storage and Servers, HP Software, the Personal Systems Group (PSG), the Imaging and Printing Group (IPG), HP Financial Services (HPFS), and Corporate Investments. The HP Enterprise Business provides servers, storage, software and information technology (IT) services that enable enterprise and midmarket business customers to manage their current IT environments and transform IT into a business enabler. HP Software is a provider of enterprise and service-provider software and services. PSG is a provider of personal computers (PCs) in the world such as Commercial PCs, consumer PCs, workstations and handheld computing. IPG is the imaging and printing systems provider in the world for consumer and commercial printer hardware, printing supplies, printing media and scanning devices such as Laserjet, managed enterprise solutions, graphics solutions include large format printing, large format supplies, webpress supplies, Indigo printing, inkjet high speed production solutions. HPFS supports and enhances HP\\'s product and service solutions, providing a broad range of value-added financial life-cycle management services. The group offers leasing, financing, utility programs and asset recovery services, as well as financial asset management services for large enterprise customers. Corporate Investments includes Hewlett-Packard Laboratories, also known as HP Labs, network infrastructure products, mobile devices associated with the Palm acquisition, and certain business incubation projects. Revenue in this segment is attributable to the sale of certain network infrastructure products, including Ethernet switch products that enhance computing and enterprise solutions under the ProCurve, 3Com and TippingPoint brands.The Company depends on third party suppliers. The distribution is organized by direct and channel. The Company\\'s operations are subject to regulation under various federal, state, local and foreign laws concerning the environment, including laws addressing the discharge of pollutants into the air and water, the management and disposal of hazardous substances and wastes, and the cleanup of contaminated sites. HP recognizes revenue sales arrangement exists, delivery have occurred or services are rendered, the sales price or fee is fixed or determinable and collectability is reasonably assured. The company also recognizes hardware revenue on sales to channel partners, including resellers, distributors or value-added solution providers at the time of sale when the channel partners have economic substance apart from HP and HP has completed its obligations related to the sale.\n",
      "-----------------------------\n",
      "SEI Investments\n",
      "SEI Investments Co was incorporated in Pennsylvania in 1968. The Company is a provider of investment processing, investment management and investment operations solutions. It helps financial institutions, financial advisors, institutional investors, investment managers and ultra-high-net-worth families create and manage wealth by providing comprehensive, investment and investment-business solutions. The Company\\'s wealth management business solutions include: Investment processing outsourcing solutions for providers of institutional and private-client wealth management services, including banks, trust companies, independent wealth advisers and other financial services firms; investment management solutions for institutional investors, including retirement plan sponsors, not-for-profit organizations and affluent individual investors; and investment operations outsourcing solutions for investment management firms, banks and investment companies that sponsor and distribute mutual funds, hedge funds and alternative investments. The Company\\'s business segments include: Private Banks, provides investment processing and investment management programs to banks and trust institutions, independent wealth advisers and financial advisors; Investment Advisors, provides investment management programs to affluent investors through a network of independent registered investment advisors, financial planners and other investment professionals in the United States; Institutional Investors, provides investment management programs and administrative outsourcing solutions to retirement plan sponsors, hospitals and not-for-profit organizations; Investment Managers, provides investment operations outsourcing solutions to fund companies, banking institutions and both traditional and non-traditional investment managers; and Investments in New Businesses, focuses on providing investment management programs to ultra-high-net-worth families residing in the United States, developing internet-based investment services and advice solutions, entering new markets, and conducting other research and development activities. Its business solutions are directly marketed to potential clients in its target markets. Its competitors include: Federated Investors, Inc., Russell Investment Group, AssetMark Investment Services Inc., Brinker Capital, Mercer and Aon Hewitt. The Company\\'s products and services include: Investment Processing, Investment Management Programs and Investment Operations.\n",
      "-----------------------------\n",
      "Digital Harbor\n",
      "Provider of risk management and compliance services for the financial services, industry and public sector clients. The company develops and markets PiiE, a platform for composite applications, which provides information integration and information management system for enterprises. The company\\'s products include Smart Client and Fusion Server. The company also offers services for anti-money laundering, fraud, knowing customer, enterprise case management and risk management to the financial services industry. The company also provides services for insider threat, command and control, incident management, mission management, analyst workbench, logistics, and network centric operations to the federal government, intelligence community, homeland security and public work organizations.\n",
      "-----------------------------\n",
      "Intuit\n",
      "Intuit Inc was incorporated in California in March 1984. The Company was reincorporated in Delaware and completed its initial public offering in March 1993. The Company creates business and financial management solutions that help simplify the business of life for small businesses, consumers, and accounting professionals. The Company\\'s products and services include; QuickBooks, TurboTax, Quicken and Mint, and help customers solve business and financial management problems including running a small business, paying bills, and filing income taxes. The Company\\'s tax preparation offerings for professional accountants includes; ProSeries and Lacerte. The Company operates its businesses into three segments; Small Business, Consumer Tax, and Professional Tax. The Small Business segment includes offerings targeting the small business market. It includes QuickBooks financial and business management online services and desktop software for small businesses and the accounting professionals serving small businesses; Small business payroll and employee management products and services; Payment processing services for small businesses, including merchant services such as credit and debit card processing; web-based transaction processing services for online merchants; secure online payments for small businesses and their customers through the Intuit Commerce Network; GoPayment mobile payment processing services; and QuickBooks Point of Sale solutions. The Consumer Tax segment targets consumers and includes TurboTax income tax preparation products and services and electronic tax filing services. The Professional Tax segment targets professional accountants and includes Lacerte, ProSeries, and Intuit Tax Online professional tax products and services. The Company faces competition in all businesses, both domestically and internationally. The Company\\'s competitors includes; Wells Fargo, JP Morgan Chase, Bank of America, First Data Corporation, Elavon, Global Payments, FIS-Certegy, PayPal and Square. The Company is subject to federal and state laws and government regulations concerning employee safety and health and environmental matters.\n",
      "-----------------------------\n",
      "Exony\n",
      "Provider of customer interaction performance management and optimization to enterprises and service providers internationally. The company offers VIM Performance, an integrated platform to drive productivity across various aspects of virtualized customer contact. It’s VIM Performance includes VIM Analytics, a single platform for day-to-day self-serve operational reporting and OLAP-based analytics to measure contact center performance, VIM Performance Management, which offers a closed loop performance management and process automation capability, VIM Resource Management, an application that allows business users to enhance the VCC’s performance without third-party training or assistance, VIM Service Management, which allows supervisors to change specific agent resources, VIM Mediator, which delivers deeper insight into business data by bringing together fact data from various data sources to enable sophisticated analytical reporting and VIM Virtualization Framework, which brings together distributed operations, management, infrastructure components and resource layers to provide scalability, security and collaboration required by distributed contact operations. It also provides insight, implementation, knowledge and support services.\n",
      "-----------------------------\n",
      "SiteScape\n",
      "Provider of Web-based business collaboration software and services. The company provides integrated Web based team collaboration and conferencing solutions for communication and program management of teams in business, government, and military organizations. Its solutions include calendar and meeting management, knowledge networks, partner management, program management, HR management, grants management, continuity of operations, bond offer management, and telework.\n",
      "-----------------------------\n",
      "JDS Uniphase\n",
      "Viavi Solutions Inc was incorporated in California in 1979 and reincorporated in Delaware in 1993 as JDS Uniphase Corp (CA). The Company changed its name from JDS Uniphase Corp (CA) to Viavi Solutions Inc. The Company is a provider of network and service enablement solutions and optical products for telecommunications service providers, wireless operators, cable operators, network-equipment manufacturers and enterprises. Its segments include Network Enablement, Service Enablement, Communications and Commercial Optical Products and Optical Security and Performance Products. The Network Enablement segment provides an integrated portfolio of testing solutions that access the network to perform build-out and maintenance tasks. These solutions include instruments, software and services to design, build, turn-up, certify, troubleshoot and optimize networks. The Service Enablement segment provides embedded systems and enterprise performance management solutions that supply global service providers, enterprises and cloud operators visibility into network, service and application data. The Communications and Commercial Optical Products segment addresses end markets including data communications (Datacom) and telecommunications (Telecom) networking and commercial lasers (Lasers) for manufacturing, inspection and life-sciences applications. The Optical Security and Performance Products segment leverages its core optical coating technologies and volume manufacturing capability to design, manufacture, and sell products targeting anti-counterfeiting, consumer and industrial, government, healthcare and other markets. The Company markets its products to telecommunications and cable service providers, NEMs, original equipment manufacturers (OEMs), enterprises, governmental organizations, distributors and strategic partners. Its competitors include Giesecke & Devrient, Agilent Technologies, Inc., Anritsu Corporation, Exfo Inc., Ixia, NetScout Systems, Inc.\n",
      "-----------------------------\n",
      "Health and Productivity Corporation of America\n",
      "Provider of health care management services. The company provides a continuum of care management services integrating health management, disease management, complex care management, disability management, workers\\' compensation management and case management services.\n",
      "-----------------------------\n",
      "LogLogic\n",
      "Developer of log data management and security event management solutions for the business operations of enterprises and mid-market companies in the United States and internationally. The company’s LX-ST and MX appliances enable customers to log data from firewalls, routers, servers, applications, operating systems, and devices to be automatically collected, stored, reported, and alerted for compliance, risk mitigation, security, performance management, virtualization, and user monitoring. Its solutions also include LogLogic MX Virtual that provides enterprise-grade IT data collection, search, and storage solutions, as well as customizable alerts and reports covering identity and access management, user activity, network changes, security, business continuity, and IT performance; Enterprise Virtual Appliance, a software-based appliance that delivers on-demand and scheduled network reports for cloud deployments and virtualized data centers; and LogLogic Compliance Manager, which provides users with an executive view into an enterprise\\'s compliance posture. It also provides customer support, consultation, implementation, training, and integration services. Its open log management and database activity monitoring solutions provide tools for customers to monitor activities that occur in networks, applications, databases, and servers. It serves telecommunications, technology, pharmaceutical, retail, petroleum, commercial banks, aerospace and defense, insurance, and healthcare companies.\n",
      "-----------------------------\n"
     ]
    }
   ],
   "source": [
    "#check Yantra\n",
    "checker('Yantra')"
   ]
  },
  {
   "cell_type": "code",
   "execution_count": 11,
   "metadata": {
    "collapsed": false
   },
   "outputs": [
    {
     "name": "stdout",
     "output_type": "stream",
     "text": [
      "Discovery Engine\n",
      "Developer of an internet search engine. The company offers an interaction model of search engine that also can also compile information from multiple sources.\n",
      "===============Neighbors===============\n",
      "Discovery Engine\n",
      "Developer of an internet search engine. The company offers an interaction model of search engine that also can also compile information from multiple sources.\n",
      "-----------------------------\n",
      "Hurra Communications\n",
      "Provider of integrated online marketing services. The company provides products and services on the subjects of search engine and dialogue marketing. The services provided by the company include search engine advertising, search engine optimization, conversation optimization, web analytics, performance display advertising and Facebook advertising.\n",
      "-----------------------------\n",
      "JustSpotted\n",
      "Provider of real time search engine. The company\\'s search engine aggregates and organizes content being shared on the internet. It offers search options on entertainment, technology, sports, world and business, science, gaming, politics and lifestyle topics.\n",
      "-----------------------------\n",
      "Goshme Solucoes Para a Internet\n",
      "Developer and provider of search engine. The company assists users by providing a list of all search engines and databases appropriate to the query, ranked by relevance, divided by categories and sub-categories, and with a brief description about each search engine.\n",
      "-----------------------------\n",
      "Yield Software\n",
      "Provider of an Internet marketing software for advertisers and digital media agencies. The company offers Web marketing solutions that automate, simplify, and optimize the process of marketing on the Internet. It also provides search engine optimization, which is a process of enhancing Web pages; search engine marketing, which evaluates keywords, ads, and bids; pay-per-click campaign management; and landing page optimization solutions.\n",
      "-----------------------------\n",
      "ClickMotive\n",
      "Provider of an online platform for website design, video making, dynamic search and mobile websites. The company creates interactive marketing software for the automotive industry. The company\\'s product, Fusion, includes dealer websites, auto group websites, regional websites, OEM websites, mobile websites, search engine marketing (SEM) programs, search engine optimization (SEO) expertise, video marketing, lead delivery, admin tools, content management, reporting analytics, customization and support.\n",
      "-----------------------------\n",
      "Trulia\n",
      "Provider of a real estate search engine. The company offers information on search sales statistics, real estate price trends and real estate market activities. It allows users to find homes for sale, as well as provides advertising products for real estate professionals.\n",
      "-----------------------------\n",
      "Guruji.com\n",
      "Operator of a crawler-based search engine that identifies Web content for Indian launches and language search. The company\\'s search engine is available for PCs and mobile devices and covers a variety of topics, including news, entertainment, travel, astrology, literature, business, and education.\n",
      "-----------------------------\n",
      "Peryskop.pl\n",
      "Provider of an online search engine. The company provides semantic search engine for products and product\\'s reviews in Polish and English.\n",
      "-----------------------------\n",
      "WiseNut\n",
      "Provider of search engine and Web-browsing services. The company is the developer of a crawler-based search engine and database of indexed Web pages.\n",
      "-----------------------------\n"
     ]
    }
   ],
   "source": [
    "#check Discovery Engine\n",
    "checker('Discovery Engine')"
   ]
  },
  {
   "cell_type": "markdown",
   "metadata": {},
   "source": [
    "# A decreased data set: 3000 instead of 5000"
   ]
  },
  {
   "cell_type": "code",
   "execution_count": 33,
   "metadata": {
    "collapsed": true
   },
   "outputs": [],
   "source": [
    "#using a 3000 firms instead of 5k\n",
    "#ds = pd.read_csv(\"companies.csv\", usecols=[\"name\", \"desc\"])\n",
    "#ds=ds.sample(n=3000, random_state=13) #use only 3000\n",
    "#ds.to_csv('3k.csv')\n",
    "\n",
    "def train(data_source):\n",
    "    start = time.time()\n",
    "    ds = pd.read_csv(data_source, usecols=[\"name\", \"desc\"])\n",
    "    print \"Training data ingested in %s seconds.\" % (time.time() - start)\n",
    "    start = time.time()\n",
    "    frame=_train(ds)\n",
    "    print \"Engine trained in %s seconds.\" % (time.time() - start)\n",
    "    return frame\n",
    "\n",
    "def _train(ds):\n",
    "    \"\"\"\n",
    "    using a subset of data\n",
    "    \"\"\"\n",
    "\n",
    "    columns = ['name','content_recommended']\n",
    "    frame = pd.DataFrame(columns=columns)\n",
    "    \n",
    "    tf = TfidfVectorizer(analyzer='word',\n",
    "                         ngram_range=(1, 3),\n",
    "                         min_df=0,\n",
    "                         stop_words='english')\n",
    "    tfidf_matrix = tf.fit_transform(ds['desc'])\n",
    "\n",
    "    cosine_similarities = linear_kernel(tfidf_matrix, tfidf_matrix)\n",
    "\n",
    "    for idx, row in ds.iterrows():\n",
    "        similar_indices = cosine_similarities[idx].argsort()[:-11:-1]\n",
    "        similar_items = [(cosine_similarities[idx][i], ds['name'][i])\n",
    "                         for i in similar_indices]\n",
    "\n",
    "        # First item is the item itself, set 0 as 1 to remove it.\n",
    "        # This 'sum' is turns a list of tuples into a single tuple:\n",
    "        # [(1,2), (3,4)] -> (1,2,3,4)\n",
    "        flattened = sum(similar_items[0:], ())\n",
    "        #add to frame\n",
    "        arr=[row['name'], flattened]\n",
    "        frame.loc[len(frame)]=arr\n",
    "    return frame"
   ]
  },
  {
   "cell_type": "code",
   "execution_count": 34,
   "metadata": {
    "collapsed": false
   },
   "outputs": [
    {
     "name": "stdout",
     "output_type": "stream",
     "text": [
      "Training data ingested in 0.014641046524 seconds.\n",
      "Engine trained in 8.0909318924 seconds.\n"
     ]
    }
   ],
   "source": [
    "#train, and create dataframe with 10 recommeneded firms\n",
    "df=train('3k.csv')"
   ]
  },
  {
   "cell_type": "code",
   "execution_count": null,
   "metadata": {
    "collapsed": true
   },
   "outputs": [],
   "source": [
    "#load 3k dataframe for checking performance\n",
    "ds = pd.read_csv('3k.csv', usecols=[\"name\", \"desc\"])"
   ]
  },
  {
   "cell_type": "code",
   "execution_count": 35,
   "metadata": {
    "collapsed": false
   },
   "outputs": [
    {
     "name": "stdout",
     "output_type": "stream",
     "text": [
      "Octagen\n",
      "Operator of biopharmaceutical company. The company develops drugs for hemophilia, other genetic disorders and variations of recombinant B domain to avoid inactivation by flying below the radar screen of the immune system.\n",
      "===============Neighbors===============\n",
      "Octagen\n",
      "Operator of biopharmaceutical company. The company develops drugs for hemophilia, other genetic disorders and variations of recombinant B domain to avoid inactivation by flying below the radar screen of the immune system.\n",
      "-----------------------------\n",
      "Flex Pharma\n",
      "Operator of a biopharmaceutical company. The company develops clinically proven products and treatments for muscle cramps and spasms.\n",
      "-----------------------------\n",
      "Twinstrand Therapeutics\n",
      "Operator of biopharmaceutical company. The company engages in the discovery, development and commercialization of biological drugs for the treatment of life threatening diseases.\n",
      "-----------------------------\n",
      "Ansata Therapeutics\n",
      "Operator of a biopharmaceutical company focused on dermatologic treatments. The company develops peptide-based topical antibiotics for skin issues.\n",
      "-----------------------------\n",
      "Konova\n",
      "Developer of anti-obesity drugs. The company develops drugs that are used for the treatment of obesity.\n",
      "-----------------------------\n",
      "Neuromed Pharmaceuticals\n",
      "Provider of small molecule drugs for the Biopharmaceutical industry. The company develops drugs targeting neuronal calcium channels to treat neurological disorders with the initial emphasis on chronic pain anxiety and stroke.\n",
      "-----------------------------\n",
      "Apalexo Biotechnologie\n",
      "Operator of a biopharmaceutical company focused on cancer treatment. The company is focused on development of a treatment to eradicate residual tumor cells following conventional cancer therapies.\n",
      "-----------------------------\n",
      "KuDOS Pharmaceuticals\n",
      "Developer of oncology drugs. The company develops drugs for combination with chemo- and radiotherapy, based on expertise in DNA repair mechanisms for treatment of cancer.\n",
      "-----------------------------\n",
      "Neorphys\n",
      "Operator of a biopharmaceutical company focusing on visceral pain management. The company discovered analgesic drug candidate with low side effects, especially on gastrointestinal transit, respiratory depression and addiction.\n",
      "-----------------------------\n",
      "Angiosyn\n",
      "Operator of a biopharmaceutical company developing novel proprietary biologics for controlling angiogenesis. The company\\'s initial therapeutic indication is for ophthalmic diseases, such as macular degeneration and diabetic retinopathy, which due to angiogenesis can lead to decreased vision and blindness\n",
      "-----------------------------\n"
     ]
    }
   ],
   "source": [
    "#check Octagen\n",
    "checker('Octagen')"
   ]
  },
  {
   "cell_type": "code",
   "execution_count": 36,
   "metadata": {
    "collapsed": false
   },
   "outputs": [
    {
     "name": "stdout",
     "output_type": "stream",
     "text": [
      "Discovery Engine\n",
      "Developer of an internet search engine. The company offers an interaction model of search engine that also can also compile information from multiple sources.\n",
      "===============Neighbors===============\n",
      "Discovery Engine\n",
      "Developer of an internet search engine. The company offers an interaction model of search engine that also can also compile information from multiple sources.\n",
      "-----------------------------\n",
      "JustSpotted\n",
      "Provider of real time search engine. The company\\'s search engine aggregates and organizes content being shared on the internet. It offers search options on entertainment, technology, sports, world and business, science, gaming, politics and lifestyle topics.\n",
      "-----------------------------\n",
      "Goshme Solucoes Para a Internet\n",
      "Developer and provider of search engine. The company assists users by providing a list of all search engines and databases appropriate to the query, ranked by relevance, divided by categories and sub-categories, and with a brief description about each search engine.\n",
      "-----------------------------\n",
      "WiseNut\n",
      "Provider of search engine and Web-browsing services. The company is the developer of a crawler-based search engine and database of indexed Web pages.\n",
      "-----------------------------\n",
      "Hurra Communications\n",
      "Provider of integrated online marketing services. The company provides products and services on the subjects of search engine and dialogue marketing. The services provided by the company include search engine advertising, search engine optimization, conversation optimization, web analytics, performance display advertising and Facebook advertising.\n",
      "-----------------------------\n",
      "DealAngel\n",
      "Provider of a travel deal search engine. The company enables users to find travel and hotel deals.\n",
      "-----------------------------\n",
      "CitySquares Online\n",
      "Provider of a hyper-local search engine. The company helps the local, neighborhood small businesses get found online.\n",
      "-----------------------------\n",
      "Milewise\n",
      "Provider of a search engine for frequent fliers. The company\\'s search engine is designed for fliers that helps to pay for using cash, airline miles and credit card points. It tracks all rewards in one place.\n",
      "-----------------------------\n",
      "Guruji.com\n",
      "Operator of a crawler-based search engine that identifies Web content for Indian launches and language search. The company\\'s search engine is available for PCs and mobile devices and covers a variety of topics, including news, entertainment, travel, astrology, literature, business, and education.\n",
      "-----------------------------\n",
      "Dwellable\n",
      "Operator of mobile based vacation rental search engine. The company provides a mobile application for users to find rental accommodation for their vacation trips.\n",
      "-----------------------------\n"
     ]
    }
   ],
   "source": [
    "#check Discovery Engine\n",
    "checker('Discovery Engine')"
   ]
  },
  {
   "cell_type": "markdown",
   "metadata": {},
   "source": [
    "# Taking a subset of description to extract features \n",
    "\n",
    "Basically, testing effect of smaller description space"
   ]
  },
  {
   "cell_type": "code",
   "execution_count": 65,
   "metadata": {
    "collapsed": false
   },
   "outputs": [],
   "source": [
    "#using a subsets of decriptions keep first 15 words\n",
    "#ds = pd.read_csv(\"companies.csv\", usecols=[\"name\", \"desc\"])\n",
    "#ds['desc']=ds['desc'].apply(lambda x: (' '.join(x.split()[:15])).strip() )\n",
    "#ds.to_csv('limited.csv')\n",
    "\n",
    "def train(data_source):\n",
    "    start = time.time()\n",
    "    ds = pd.read_csv(data_source, usecols=[\"name\", \"desc\"])\n",
    "    print \"Training data ingested in %s seconds.\" % (time.time() - start)\n",
    "    start = time.time()\n",
    "    frame=_train(ds)\n",
    "    print \"Engine trained in %s seconds.\" % (time.time() - start)\n",
    "    return frame\n",
    "\n",
    "def _train(ds):\n",
    "    \"\"\"\n",
    "    using limited descriptions\n",
    "    \"\"\"\n",
    "\n",
    "    columns = ['name','content_recommended']\n",
    "    frame = pd.DataFrame(columns=columns)\n",
    "    \n",
    "    tf = TfidfVectorizer(analyzer='word',\n",
    "                         ngram_range=(1, 3),\n",
    "                         min_df=0,\n",
    "                         stop_words='english')\n",
    "    tfidf_matrix = tf.fit_transform(ds['desc'])\n",
    "\n",
    "    cosine_similarities = linear_kernel(tfidf_matrix, tfidf_matrix)\n",
    "\n",
    "    for idx, row in ds.iterrows():\n",
    "        similar_indices = cosine_similarities[idx].argsort()[:-11:-1]\n",
    "        similar_items = [(cosine_similarities[idx][i], ds['name'][i])\n",
    "                         for i in similar_indices]\n",
    "\n",
    "        # First item is the item itself, set 0 as 1 to remove it.\n",
    "        # This 'sum' is turns a list of tuples into a single tuple:\n",
    "        # [(1,2), (3,4)] -> (1,2,3,4)\n",
    "        flattened = sum(similar_items[0:], ())\n",
    "        #add to frame\n",
    "        arr=[row['name'], flattened]\n",
    "        frame.loc[len(frame)]=arr\n",
    "    return frame"
   ]
  },
  {
   "cell_type": "code",
   "execution_count": 66,
   "metadata": {
    "collapsed": false
   },
   "outputs": [
    {
     "name": "stdout",
     "output_type": "stream",
     "text": [
      "Training data ingested in 0.0114548206329 seconds.\n",
      "Engine trained in 13.2973761559 seconds.\n"
     ]
    }
   ],
   "source": [
    "#train, and create dataframe with 10 recommeneded firms\n",
    "df=train('limited.csv')"
   ]
  },
  {
   "cell_type": "code",
   "execution_count": null,
   "metadata": {
    "collapsed": true
   },
   "outputs": [],
   "source": [
    "#load limited dataframe for checking performance\n",
    "ds = pd.read_csv('limited.csv', usecols=[\"name\", \"desc\"])"
   ]
  },
  {
   "cell_type": "code",
   "execution_count": 67,
   "metadata": {
    "collapsed": false
   },
   "outputs": [
    {
     "name": "stdout",
     "output_type": "stream",
     "text": [
      "Octagen\n",
      "Operator of biopharmaceutical company. The company develops drugs for hemophilia, other genetic disorders and variations\n",
      "===============Neighbors===============\n",
      "Octagen\n",
      "Operator of biopharmaceutical company. The company develops drugs for hemophilia, other genetic disorders and variations\n",
      "-----------------------------\n",
      "Sterix\n",
      "Operator of a biopharmaceutical company. The company specializes in the research and development of a\n",
      "-----------------------------\n",
      "Alkermes\n",
      "Operator of a biopharmaceutical company. The company develops products based on drug-delivery technologies to enhance\n",
      "-----------------------------\n",
      "Flex Pharma\n",
      "Operator of a biopharmaceutical company. The company develops clinically proven products and treatments for muscle\n",
      "-----------------------------\n",
      "Twinstrand Therapeutics\n",
      "Operator of biopharmaceutical company. The company engages in the discovery, development and commercialization of biological\n",
      "-----------------------------\n",
      "Neuromed Pharmaceuticals\n",
      "Provider of small molecule drugs for the Biopharmaceutical industry. The company develops drugs targeting neuronal\n",
      "-----------------------------\n",
      "Covagen\n",
      "Operator of a biopharmaceutical company focused on therapies for inflammatory diseases and cancer. The company\n",
      "-----------------------------\n",
      "Apalexo Biotechnologie\n",
      "Operator of a biopharmaceutical company focused on cancer treatment. The company is focused on development\n",
      "-----------------------------\n",
      "Conforma Therapeutics\n",
      "Developer of drugs for the treatment of cancer. The company develops drugs that induce tumor\n",
      "-----------------------------\n",
      "Konova\n",
      "Developer of anti-obesity drugs. The company develops drugs that are used for the treatment of\n",
      "-----------------------------\n"
     ]
    }
   ],
   "source": [
    "#check Octagen\n",
    "checker('Octagen')"
   ]
  },
  {
   "cell_type": "code",
   "execution_count": 68,
   "metadata": {
    "collapsed": false
   },
   "outputs": [
    {
     "name": "stdout",
     "output_type": "stream",
     "text": [
      "Yantra\n",
      "Provider of distributed order management and supply chain fulfillment solutions for retail, distribution, logistics, and\n",
      "===============Neighbors===============\n",
      "Yantra\n",
      "Provider of distributed order management and supply chain fulfillment solutions for retail, distribution, logistics, and\n",
      "-----------------------------\n",
      "LCL Logistix\n",
      "Provider of logistics and supply-chain solutions. The company provides integrated, end-to-end shipping logistics services to\n",
      "-----------------------------\n",
      "Mercari Technologies\n",
      "Provider of supply-chain management and e-fulfillment software company. The company\\'s merchandising solutions bringing retailers and\n",
      "-----------------------------\n",
      "Speedchain Networks\n",
      "Provider of supply chain event management and global e-logistics services. The company through its web-native\n",
      "-----------------------------\n",
      "Global Beverage Group\n",
      "Developer of delivery management technologies. The company offers a supply chain management software for the\n",
      "-----------------------------\n",
      "DownstreamEnergy.com\n",
      "Provider of solutions for supply chain management. The company provides software programs that manages flow\n",
      "-----------------------------\n",
      "CarParts Technologies\n",
      "Provider of open, business automation and distribution channels for the automotive aftermarket supply chain. The\n",
      "-----------------------------\n",
      "Lettuce\n",
      "Developer of order management system for small and medium sized businesses. The company develops management\n",
      "-----------------------------\n",
      "MobilGiganten\n",
      "Operator of an online store for mobile phones. The company provides ecommerce retail and distribution\n",
      "-----------------------------\n",
      "Profile Systems\n",
      "Developer of product data and supply chain management solutions for business-to-business electronic commerce. The company\n",
      "-----------------------------\n"
     ]
    }
   ],
   "source": [
    "#check Octagen\n",
    "checker('Yantra')"
   ]
  },
  {
   "cell_type": "code",
   "execution_count": 69,
   "metadata": {
    "collapsed": false
   },
   "outputs": [
    {
     "name": "stdout",
     "output_type": "stream",
     "text": [
      "Discovery Engine\n",
      "Developer of an internet search engine. The company offers an interaction model of search engine\n",
      "===============Neighbors===============\n",
      "Discovery Engine\n",
      "Developer of an internet search engine. The company offers an interaction model of search engine\n",
      "-----------------------------\n",
      "Peryskop.pl\n",
      "Provider of an online search engine. The company provides semantic search engine for products and\n",
      "-----------------------------\n",
      "JustSpotted\n",
      "Provider of real time search engine. The company\\'s search engine aggregates and organizes content being\n",
      "-----------------------------\n",
      "Trulia\n",
      "Provider of a real estate search engine. The company offers information on search sales statistics,\n",
      "-----------------------------\n",
      "Krillion\n",
      "Operator of a shopping search engine. The company offers audio and video accessories, such as\n",
      "-----------------------------\n",
      "Yandex\n",
      "Operator of an Internet search engine in Russia. The company offers access to a range\n",
      "-----------------------------\n",
      "Milewise\n",
      "Provider of a search engine for frequent fliers. The company\\'s search engine is designed for\n",
      "-----------------------------\n",
      "Zoomf\n",
      "Provider of a residential property sales and letting search engine. The company also offers consumers\n",
      "-----------------------------\n",
      "Cue\n",
      "Provider of search engine that runs through the cloud data. The company\\'s search engine turns\n",
      "-----------------------------\n",
      "Goshme Solucoes Para a Internet\n",
      "Developer and provider of search engine. The company assists users by providing a list of\n",
      "-----------------------------\n"
     ]
    }
   ],
   "source": [
    "#check Octagen\n",
    "checker('Discovery Engine')"
   ]
  },
  {
   "cell_type": "code",
   "execution_count": null,
   "metadata": {
    "collapsed": true
   },
   "outputs": [],
   "source": []
  }
 ],
 "metadata": {
  "kernelspec": {
   "display_name": "Python [dato-env]",
   "language": "python",
   "name": "Python [dato-env]"
  },
  "language_info": {
   "codemirror_mode": {
    "name": "ipython",
    "version": 2
   },
   "file_extension": ".py",
   "mimetype": "text/x-python",
   "name": "python",
   "nbconvert_exporter": "python",
   "pygments_lexer": "ipython2",
   "version": "2.7.12"
  }
 },
 "nbformat": 4,
 "nbformat_minor": 0
}
